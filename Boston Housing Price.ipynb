{
 "cells": [
  {
   "cell_type": "code",
   "execution_count": 1,
   "id": "6a7d8457-cd8a-4d11-9d69-19446b8e234e",
   "metadata": {},
   "outputs": [],
   "source": [
    "import sklearn"
   ]
  },
  {
   "cell_type": "code",
   "execution_count": 2,
   "id": "5c0d953c-2cbd-4bd9-945b-1bbb569cad36",
   "metadata": {},
   "outputs": [],
   "source": [
    "import statsmodels"
   ]
  },
  {
   "cell_type": "code",
   "execution_count": 3,
   "id": "7094a695-bab6-4211-a8ef-f5ecec6c037e",
   "metadata": {},
   "outputs": [],
   "source": [
    "# import common package\n",
    "import numpy as np\n",
    "import pandas as pd\n",
    "import matplotlib.pyplot as plt\n",
    "import seaborn as sns"
   ]
  },
  {
   "cell_type": "code",
   "execution_count": 28,
   "id": "e7c73bbd-7507-4c35-8a29-ee83c369e73d",
   "metadata": {},
   "outputs": [],
   "source": [
    "from sklearn.datasets import load_boston"
   ]
  },
  {
   "cell_type": "code",
   "execution_count": 29,
   "id": "09c58538-c984-4ffd-acb9-9ae890e71103",
   "metadata": {},
   "outputs": [],
   "source": [
    "boston = load_boston()"
   ]
  },
  {
   "cell_type": "code",
   "execution_count": 30,
   "id": "cae8b66e-5dda-45a2-921a-e5c6bf9c782b",
   "metadata": {},
   "outputs": [
    {
     "data": {
      "text/plain": [
       "dict_keys(['data', 'target', 'feature_names', 'DESCR', 'filename'])"
      ]
     },
     "execution_count": 30,
     "metadata": {},
     "output_type": "execute_result"
    }
   ],
   "source": [
    "boston.keys()"
   ]
  },
  {
   "cell_type": "code",
   "execution_count": 31,
   "id": "05899173-1be0-4570-a888-a74ddfb59593",
   "metadata": {},
   "outputs": [
    {
     "name": "stdout",
     "output_type": "stream",
     "text": [
      ".. _boston_dataset:\n",
      "\n",
      "Boston house prices dataset\n",
      "---------------------------\n",
      "\n",
      "**Data Set Characteristics:**  \n",
      "\n",
      "    :Number of Instances: 506 \n",
      "\n",
      "    :Number of Attributes: 13 numeric/categorical predictive. Median Value (attribute 14) is usually the target.\n",
      "\n",
      "    :Attribute Information (in order):\n",
      "        - CRIM     per capita crime rate by town\n",
      "        - ZN       proportion of residential land zoned for lots over 25,000 sq.ft.\n",
      "        - INDUS    proportion of non-retail business acres per town\n",
      "        - CHAS     Charles River dummy variable (= 1 if tract bounds river; 0 otherwise)\n",
      "        - NOX      nitric oxides concentration (parts per 10 million)\n",
      "        - RM       average number of rooms per dwelling\n",
      "        - AGE      proportion of owner-occupied units built prior to 1940\n",
      "        - DIS      weighted distances to five Boston employment centres\n",
      "        - RAD      index of accessibility to radial highways\n",
      "        - TAX      full-value property-tax rate per $10,000\n",
      "        - PTRATIO  pupil-teacher ratio by town\n",
      "        - B        1000(Bk - 0.63)^2 where Bk is the proportion of black people by town\n",
      "        - LSTAT    % lower status of the population\n",
      "        - MEDV     Median value of owner-occupied homes in $1000's\n",
      "\n",
      "    :Missing Attribute Values: None\n",
      "\n",
      "    :Creator: Harrison, D. and Rubinfeld, D.L.\n",
      "\n",
      "This is a copy of UCI ML housing dataset.\n",
      "https://archive.ics.uci.edu/ml/machine-learning-databases/housing/\n",
      "\n",
      "\n",
      "This dataset was taken from the StatLib library which is maintained at Carnegie Mellon University.\n",
      "\n",
      "The Boston house-price data of Harrison, D. and Rubinfeld, D.L. 'Hedonic\n",
      "prices and the demand for clean air', J. Environ. Economics & Management,\n",
      "vol.5, 81-102, 1978.   Used in Belsley, Kuh & Welsch, 'Regression diagnostics\n",
      "...', Wiley, 1980.   N.B. Various transformations are used in the table on\n",
      "pages 244-261 of the latter.\n",
      "\n",
      "The Boston house-price data has been used in many machine learning papers that address regression\n",
      "problems.   \n",
      "     \n",
      ".. topic:: References\n",
      "\n",
      "   - Belsley, Kuh & Welsch, 'Regression diagnostics: Identifying Influential Data and Sources of Collinearity', Wiley, 1980. 244-261.\n",
      "   - Quinlan,R. (1993). Combining Instance-Based and Model-Based Learning. In Proceedings on the Tenth International Conference of Machine Learning, 236-243, University of Massachusetts, Amherst. Morgan Kaufmann.\n",
      "\n"
     ]
    }
   ],
   "source": [
    "print(boston['DESCR'])"
   ]
  },
  {
   "cell_type": "code",
   "execution_count": 32,
   "id": "5460e160-100d-4c66-ab32-54946d81c9b3",
   "metadata": {},
   "outputs": [
    {
     "data": {
      "text/plain": [
       "(506, 13)"
      ]
     },
     "execution_count": 32,
     "metadata": {},
     "output_type": "execute_result"
    }
   ],
   "source": [
    "boston['data'].shape"
   ]
  },
  {
   "cell_type": "code",
   "execution_count": 33,
   "id": "1524b3f4-c3d3-4709-8d1e-edda8c05df7f",
   "metadata": {},
   "outputs": [
    {
     "data": {
      "text/plain": [
       "array([24. , 21.6, 34.7, 33.4, 36.2, 28.7, 22.9, 27.1, 16.5, 18.9, 15. ,\n",
       "       18.9, 21.7, 20.4, 18.2, 19.9, 23.1, 17.5, 20.2, 18.2, 13.6, 19.6,\n",
       "       15.2, 14.5, 15.6, 13.9, 16.6, 14.8, 18.4, 21. , 12.7, 14.5, 13.2,\n",
       "       13.1, 13.5, 18.9, 20. , 21. , 24.7, 30.8, 34.9, 26.6, 25.3, 24.7,\n",
       "       21.2, 19.3, 20. , 16.6, 14.4, 19.4, 19.7, 20.5, 25. , 23.4, 18.9,\n",
       "       35.4, 24.7, 31.6, 23.3, 19.6, 18.7, 16. , 22.2, 25. , 33. , 23.5,\n",
       "       19.4, 22. , 17.4, 20.9, 24.2, 21.7, 22.8, 23.4, 24.1, 21.4, 20. ,\n",
       "       20.8, 21.2, 20.3, 28. , 23.9, 24.8, 22.9, 23.9, 26.6, 22.5, 22.2,\n",
       "       23.6, 28.7, 22.6, 22. , 22.9, 25. , 20.6, 28.4, 21.4, 38.7, 43.8,\n",
       "       33.2, 27.5, 26.5, 18.6, 19.3, 20.1, 19.5, 19.5, 20.4, 19.8, 19.4,\n",
       "       21.7, 22.8, 18.8, 18.7, 18.5, 18.3, 21.2, 19.2, 20.4, 19.3, 22. ,\n",
       "       20.3, 20.5, 17.3, 18.8, 21.4, 15.7, 16.2, 18. , 14.3, 19.2, 19.6,\n",
       "       23. , 18.4, 15.6, 18.1, 17.4, 17.1, 13.3, 17.8, 14. , 14.4, 13.4,\n",
       "       15.6, 11.8, 13.8, 15.6, 14.6, 17.8, 15.4, 21.5, 19.6, 15.3, 19.4,\n",
       "       17. , 15.6, 13.1, 41.3, 24.3, 23.3, 27. , 50. , 50. , 50. , 22.7,\n",
       "       25. , 50. , 23.8, 23.8, 22.3, 17.4, 19.1, 23.1, 23.6, 22.6, 29.4,\n",
       "       23.2, 24.6, 29.9, 37.2, 39.8, 36.2, 37.9, 32.5, 26.4, 29.6, 50. ,\n",
       "       32. , 29.8, 34.9, 37. , 30.5, 36.4, 31.1, 29.1, 50. , 33.3, 30.3,\n",
       "       34.6, 34.9, 32.9, 24.1, 42.3, 48.5, 50. , 22.6, 24.4, 22.5, 24.4,\n",
       "       20. , 21.7, 19.3, 22.4, 28.1, 23.7, 25. , 23.3, 28.7, 21.5, 23. ,\n",
       "       26.7, 21.7, 27.5, 30.1, 44.8, 50. , 37.6, 31.6, 46.7, 31.5, 24.3,\n",
       "       31.7, 41.7, 48.3, 29. , 24. , 25.1, 31.5, 23.7, 23.3, 22. , 20.1,\n",
       "       22.2, 23.7, 17.6, 18.5, 24.3, 20.5, 24.5, 26.2, 24.4, 24.8, 29.6,\n",
       "       42.8, 21.9, 20.9, 44. , 50. , 36. , 30.1, 33.8, 43.1, 48.8, 31. ,\n",
       "       36.5, 22.8, 30.7, 50. , 43.5, 20.7, 21.1, 25.2, 24.4, 35.2, 32.4,\n",
       "       32. , 33.2, 33.1, 29.1, 35.1, 45.4, 35.4, 46. , 50. , 32.2, 22. ,\n",
       "       20.1, 23.2, 22.3, 24.8, 28.5, 37.3, 27.9, 23.9, 21.7, 28.6, 27.1,\n",
       "       20.3, 22.5, 29. , 24.8, 22. , 26.4, 33.1, 36.1, 28.4, 33.4, 28.2,\n",
       "       22.8, 20.3, 16.1, 22.1, 19.4, 21.6, 23.8, 16.2, 17.8, 19.8, 23.1,\n",
       "       21. , 23.8, 23.1, 20.4, 18.5, 25. , 24.6, 23. , 22.2, 19.3, 22.6,\n",
       "       19.8, 17.1, 19.4, 22.2, 20.7, 21.1, 19.5, 18.5, 20.6, 19. , 18.7,\n",
       "       32.7, 16.5, 23.9, 31.2, 17.5, 17.2, 23.1, 24.5, 26.6, 22.9, 24.1,\n",
       "       18.6, 30.1, 18.2, 20.6, 17.8, 21.7, 22.7, 22.6, 25. , 19.9, 20.8,\n",
       "       16.8, 21.9, 27.5, 21.9, 23.1, 50. , 50. , 50. , 50. , 50. , 13.8,\n",
       "       13.8, 15. , 13.9, 13.3, 13.1, 10.2, 10.4, 10.9, 11.3, 12.3,  8.8,\n",
       "        7.2, 10.5,  7.4, 10.2, 11.5, 15.1, 23.2,  9.7, 13.8, 12.7, 13.1,\n",
       "       12.5,  8.5,  5. ,  6.3,  5.6,  7.2, 12.1,  8.3,  8.5,  5. , 11.9,\n",
       "       27.9, 17.2, 27.5, 15. , 17.2, 17.9, 16.3,  7. ,  7.2,  7.5, 10.4,\n",
       "        8.8,  8.4, 16.7, 14.2, 20.8, 13.4, 11.7,  8.3, 10.2, 10.9, 11. ,\n",
       "        9.5, 14.5, 14.1, 16.1, 14.3, 11.7, 13.4,  9.6,  8.7,  8.4, 12.8,\n",
       "       10.5, 17.1, 18.4, 15.4, 10.8, 11.8, 14.9, 12.6, 14.1, 13. , 13.4,\n",
       "       15.2, 16.1, 17.8, 14.9, 14.1, 12.7, 13.5, 14.9, 20. , 16.4, 17.7,\n",
       "       19.5, 20.2, 21.4, 19.9, 19. , 19.1, 19.1, 20.1, 19.9, 19.6, 23.2,\n",
       "       29.8, 13.8, 13.3, 16.7, 12. , 14.6, 21.4, 23. , 23.7, 25. , 21.8,\n",
       "       20.6, 21.2, 19.1, 20.6, 15.2,  7. ,  8.1, 13.6, 20.1, 21.8, 24.5,\n",
       "       23.1, 19.7, 18.3, 21.2, 17.5, 16.8, 22.4, 20.6, 23.9, 22. , 11.9])"
      ]
     },
     "execution_count": 33,
     "metadata": {},
     "output_type": "execute_result"
    }
   ],
   "source": [
    "boston['target']"
   ]
  },
  {
   "cell_type": "code",
   "execution_count": 34,
   "id": "b4893cb1-a38d-41ec-ab91-a0fbcdb2cdbe",
   "metadata": {},
   "outputs": [
    {
     "data": {
      "text/plain": [
       "array(['CRIM', 'ZN', 'INDUS', 'CHAS', 'NOX', 'RM', 'AGE', 'DIS', 'RAD',\n",
       "       'TAX', 'PTRATIO', 'B', 'LSTAT'], dtype='<U7')"
      ]
     },
     "execution_count": 34,
     "metadata": {},
     "output_type": "execute_result"
    }
   ],
   "source": [
    "boston['feature_names']"
   ]
  },
  {
   "cell_type": "code",
   "execution_count": 35,
   "id": "46caf38a-1d54-4c20-8201-42c6934c79d8",
   "metadata": {},
   "outputs": [
    {
     "data": {
      "text/html": [
       "<div>\n",
       "<style scoped>\n",
       "    .dataframe tbody tr th:only-of-type {\n",
       "        vertical-align: middle;\n",
       "    }\n",
       "\n",
       "    .dataframe tbody tr th {\n",
       "        vertical-align: top;\n",
       "    }\n",
       "\n",
       "    .dataframe thead th {\n",
       "        text-align: right;\n",
       "    }\n",
       "</style>\n",
       "<table border=\"1\" class=\"dataframe\">\n",
       "  <thead>\n",
       "    <tr style=\"text-align: right;\">\n",
       "      <th></th>\n",
       "      <th>CRIM</th>\n",
       "      <th>ZN</th>\n",
       "      <th>INDUS</th>\n",
       "      <th>CHAS</th>\n",
       "      <th>NOX</th>\n",
       "      <th>RM</th>\n",
       "      <th>AGE</th>\n",
       "      <th>DIS</th>\n",
       "      <th>RAD</th>\n",
       "      <th>TAX</th>\n",
       "      <th>PTRATIO</th>\n",
       "      <th>B</th>\n",
       "      <th>LSTAT</th>\n",
       "    </tr>\n",
       "  </thead>\n",
       "  <tbody>\n",
       "    <tr>\n",
       "      <th>0</th>\n",
       "      <td>0.00632</td>\n",
       "      <td>18.0</td>\n",
       "      <td>2.31</td>\n",
       "      <td>0.0</td>\n",
       "      <td>0.538</td>\n",
       "      <td>6.575</td>\n",
       "      <td>65.2</td>\n",
       "      <td>4.0900</td>\n",
       "      <td>1.0</td>\n",
       "      <td>296.0</td>\n",
       "      <td>15.3</td>\n",
       "      <td>396.90</td>\n",
       "      <td>4.98</td>\n",
       "    </tr>\n",
       "    <tr>\n",
       "      <th>1</th>\n",
       "      <td>0.02731</td>\n",
       "      <td>0.0</td>\n",
       "      <td>7.07</td>\n",
       "      <td>0.0</td>\n",
       "      <td>0.469</td>\n",
       "      <td>6.421</td>\n",
       "      <td>78.9</td>\n",
       "      <td>4.9671</td>\n",
       "      <td>2.0</td>\n",
       "      <td>242.0</td>\n",
       "      <td>17.8</td>\n",
       "      <td>396.90</td>\n",
       "      <td>9.14</td>\n",
       "    </tr>\n",
       "    <tr>\n",
       "      <th>2</th>\n",
       "      <td>0.02729</td>\n",
       "      <td>0.0</td>\n",
       "      <td>7.07</td>\n",
       "      <td>0.0</td>\n",
       "      <td>0.469</td>\n",
       "      <td>7.185</td>\n",
       "      <td>61.1</td>\n",
       "      <td>4.9671</td>\n",
       "      <td>2.0</td>\n",
       "      <td>242.0</td>\n",
       "      <td>17.8</td>\n",
       "      <td>392.83</td>\n",
       "      <td>4.03</td>\n",
       "    </tr>\n",
       "    <tr>\n",
       "      <th>3</th>\n",
       "      <td>0.03237</td>\n",
       "      <td>0.0</td>\n",
       "      <td>2.18</td>\n",
       "      <td>0.0</td>\n",
       "      <td>0.458</td>\n",
       "      <td>6.998</td>\n",
       "      <td>45.8</td>\n",
       "      <td>6.0622</td>\n",
       "      <td>3.0</td>\n",
       "      <td>222.0</td>\n",
       "      <td>18.7</td>\n",
       "      <td>394.63</td>\n",
       "      <td>2.94</td>\n",
       "    </tr>\n",
       "    <tr>\n",
       "      <th>4</th>\n",
       "      <td>0.06905</td>\n",
       "      <td>0.0</td>\n",
       "      <td>2.18</td>\n",
       "      <td>0.0</td>\n",
       "      <td>0.458</td>\n",
       "      <td>7.147</td>\n",
       "      <td>54.2</td>\n",
       "      <td>6.0622</td>\n",
       "      <td>3.0</td>\n",
       "      <td>222.0</td>\n",
       "      <td>18.7</td>\n",
       "      <td>396.90</td>\n",
       "      <td>5.33</td>\n",
       "    </tr>\n",
       "  </tbody>\n",
       "</table>\n",
       "</div>"
      ],
      "text/plain": [
       "      CRIM    ZN  INDUS  CHAS    NOX     RM   AGE     DIS  RAD    TAX  \\\n",
       "0  0.00632  18.0   2.31   0.0  0.538  6.575  65.2  4.0900  1.0  296.0   \n",
       "1  0.02731   0.0   7.07   0.0  0.469  6.421  78.9  4.9671  2.0  242.0   \n",
       "2  0.02729   0.0   7.07   0.0  0.469  7.185  61.1  4.9671  2.0  242.0   \n",
       "3  0.03237   0.0   2.18   0.0  0.458  6.998  45.8  6.0622  3.0  222.0   \n",
       "4  0.06905   0.0   2.18   0.0  0.458  7.147  54.2  6.0622  3.0  222.0   \n",
       "\n",
       "   PTRATIO       B  LSTAT  \n",
       "0     15.3  396.90   4.98  \n",
       "1     17.8  396.90   9.14  \n",
       "2     17.8  392.83   4.03  \n",
       "3     18.7  394.63   2.94  \n",
       "4     18.7  396.90   5.33  "
      ]
     },
     "execution_count": 35,
     "metadata": {},
     "output_type": "execute_result"
    }
   ],
   "source": [
    "df = pd.DataFrame(data=boston['data'],columns=boston['feature_names'])\n",
    "df.head()"
   ]
  },
  {
   "cell_type": "code",
   "execution_count": 36,
   "id": "021ae06d-36cb-4c08-9d56-de486965d123",
   "metadata": {},
   "outputs": [],
   "source": [
    "target = pd.Series(boston['target'])"
   ]
  },
  {
   "cell_type": "code",
   "execution_count": 37,
   "id": "fee09cf7-fe14-486b-8a96-fb9aa7ec6837",
   "metadata": {},
   "outputs": [],
   "source": [
    "df['PRICE'] = target"
   ]
  },
  {
   "cell_type": "code",
   "execution_count": 38,
   "id": "763eecf8-3d98-4c2d-96a8-ab8e3c63fa31",
   "metadata": {},
   "outputs": [
    {
     "data": {
      "text/html": [
       "<div>\n",
       "<style scoped>\n",
       "    .dataframe tbody tr th:only-of-type {\n",
       "        vertical-align: middle;\n",
       "    }\n",
       "\n",
       "    .dataframe tbody tr th {\n",
       "        vertical-align: top;\n",
       "    }\n",
       "\n",
       "    .dataframe thead th {\n",
       "        text-align: right;\n",
       "    }\n",
       "</style>\n",
       "<table border=\"1\" class=\"dataframe\">\n",
       "  <thead>\n",
       "    <tr style=\"text-align: right;\">\n",
       "      <th></th>\n",
       "      <th>CRIM</th>\n",
       "      <th>ZN</th>\n",
       "      <th>INDUS</th>\n",
       "      <th>CHAS</th>\n",
       "      <th>NOX</th>\n",
       "      <th>RM</th>\n",
       "      <th>AGE</th>\n",
       "      <th>DIS</th>\n",
       "      <th>RAD</th>\n",
       "      <th>TAX</th>\n",
       "      <th>PTRATIO</th>\n",
       "      <th>B</th>\n",
       "      <th>LSTAT</th>\n",
       "      <th>PRICE</th>\n",
       "    </tr>\n",
       "  </thead>\n",
       "  <tbody>\n",
       "    <tr>\n",
       "      <th>0</th>\n",
       "      <td>0.00632</td>\n",
       "      <td>18.0</td>\n",
       "      <td>2.31</td>\n",
       "      <td>0.0</td>\n",
       "      <td>0.538</td>\n",
       "      <td>6.575</td>\n",
       "      <td>65.2</td>\n",
       "      <td>4.0900</td>\n",
       "      <td>1.0</td>\n",
       "      <td>296.0</td>\n",
       "      <td>15.3</td>\n",
       "      <td>396.90</td>\n",
       "      <td>4.98</td>\n",
       "      <td>24.0</td>\n",
       "    </tr>\n",
       "    <tr>\n",
       "      <th>1</th>\n",
       "      <td>0.02731</td>\n",
       "      <td>0.0</td>\n",
       "      <td>7.07</td>\n",
       "      <td>0.0</td>\n",
       "      <td>0.469</td>\n",
       "      <td>6.421</td>\n",
       "      <td>78.9</td>\n",
       "      <td>4.9671</td>\n",
       "      <td>2.0</td>\n",
       "      <td>242.0</td>\n",
       "      <td>17.8</td>\n",
       "      <td>396.90</td>\n",
       "      <td>9.14</td>\n",
       "      <td>21.6</td>\n",
       "    </tr>\n",
       "    <tr>\n",
       "      <th>2</th>\n",
       "      <td>0.02729</td>\n",
       "      <td>0.0</td>\n",
       "      <td>7.07</td>\n",
       "      <td>0.0</td>\n",
       "      <td>0.469</td>\n",
       "      <td>7.185</td>\n",
       "      <td>61.1</td>\n",
       "      <td>4.9671</td>\n",
       "      <td>2.0</td>\n",
       "      <td>242.0</td>\n",
       "      <td>17.8</td>\n",
       "      <td>392.83</td>\n",
       "      <td>4.03</td>\n",
       "      <td>34.7</td>\n",
       "    </tr>\n",
       "    <tr>\n",
       "      <th>3</th>\n",
       "      <td>0.03237</td>\n",
       "      <td>0.0</td>\n",
       "      <td>2.18</td>\n",
       "      <td>0.0</td>\n",
       "      <td>0.458</td>\n",
       "      <td>6.998</td>\n",
       "      <td>45.8</td>\n",
       "      <td>6.0622</td>\n",
       "      <td>3.0</td>\n",
       "      <td>222.0</td>\n",
       "      <td>18.7</td>\n",
       "      <td>394.63</td>\n",
       "      <td>2.94</td>\n",
       "      <td>33.4</td>\n",
       "    </tr>\n",
       "    <tr>\n",
       "      <th>4</th>\n",
       "      <td>0.06905</td>\n",
       "      <td>0.0</td>\n",
       "      <td>2.18</td>\n",
       "      <td>0.0</td>\n",
       "      <td>0.458</td>\n",
       "      <td>7.147</td>\n",
       "      <td>54.2</td>\n",
       "      <td>6.0622</td>\n",
       "      <td>3.0</td>\n",
       "      <td>222.0</td>\n",
       "      <td>18.7</td>\n",
       "      <td>396.90</td>\n",
       "      <td>5.33</td>\n",
       "      <td>36.2</td>\n",
       "    </tr>\n",
       "  </tbody>\n",
       "</table>\n",
       "</div>"
      ],
      "text/plain": [
       "      CRIM    ZN  INDUS  CHAS    NOX     RM   AGE     DIS  RAD    TAX  \\\n",
       "0  0.00632  18.0   2.31   0.0  0.538  6.575  65.2  4.0900  1.0  296.0   \n",
       "1  0.02731   0.0   7.07   0.0  0.469  6.421  78.9  4.9671  2.0  242.0   \n",
       "2  0.02729   0.0   7.07   0.0  0.469  7.185  61.1  4.9671  2.0  242.0   \n",
       "3  0.03237   0.0   2.18   0.0  0.458  6.998  45.8  6.0622  3.0  222.0   \n",
       "4  0.06905   0.0   2.18   0.0  0.458  7.147  54.2  6.0622  3.0  222.0   \n",
       "\n",
       "   PTRATIO       B  LSTAT  PRICE  \n",
       "0     15.3  396.90   4.98   24.0  \n",
       "1     17.8  396.90   9.14   21.6  \n",
       "2     17.8  392.83   4.03   34.7  \n",
       "3     18.7  394.63   2.94   33.4  \n",
       "4     18.7  396.90   5.33   36.2  "
      ]
     },
     "execution_count": 38,
     "metadata": {},
     "output_type": "execute_result"
    }
   ],
   "source": [
    "df.head()"
   ]
  },
  {
   "cell_type": "code",
   "execution_count": 39,
   "id": "eeb9384b-ace8-4dd0-aa47-4172a21c9e86",
   "metadata": {},
   "outputs": [
    {
     "data": {
      "text/plain": [
       "CRIM       0\n",
       "ZN         0\n",
       "INDUS      0\n",
       "CHAS       0\n",
       "NOX        0\n",
       "RM         0\n",
       "AGE        0\n",
       "DIS        0\n",
       "RAD        0\n",
       "TAX        0\n",
       "PTRATIO    0\n",
       "B          0\n",
       "LSTAT      0\n",
       "PRICE      0\n",
       "dtype: int64"
      ]
     },
     "execution_count": 39,
     "metadata": {},
     "output_type": "execute_result"
    }
   ],
   "source": [
    "df.isna().sum()"
   ]
  },
  {
   "cell_type": "code",
   "execution_count": 40,
   "id": "7900d055-210a-4ab8-bbc7-6baec4da7382",
   "metadata": {},
   "outputs": [
    {
     "data": {
      "text/html": [
       "<div>\n",
       "<style scoped>\n",
       "    .dataframe tbody tr th:only-of-type {\n",
       "        vertical-align: middle;\n",
       "    }\n",
       "\n",
       "    .dataframe tbody tr th {\n",
       "        vertical-align: top;\n",
       "    }\n",
       "\n",
       "    .dataframe thead th {\n",
       "        text-align: right;\n",
       "    }\n",
       "</style>\n",
       "<table border=\"1\" class=\"dataframe\">\n",
       "  <thead>\n",
       "    <tr style=\"text-align: right;\">\n",
       "      <th></th>\n",
       "      <th>count</th>\n",
       "      <th>mean</th>\n",
       "      <th>std</th>\n",
       "      <th>min</th>\n",
       "      <th>25%</th>\n",
       "      <th>50%</th>\n",
       "      <th>75%</th>\n",
       "      <th>max</th>\n",
       "    </tr>\n",
       "  </thead>\n",
       "  <tbody>\n",
       "    <tr>\n",
       "      <th>CRIM</th>\n",
       "      <td>506.0</td>\n",
       "      <td>3.613524</td>\n",
       "      <td>8.601545</td>\n",
       "      <td>0.00632</td>\n",
       "      <td>0.082045</td>\n",
       "      <td>0.25651</td>\n",
       "      <td>3.677083</td>\n",
       "      <td>88.9762</td>\n",
       "    </tr>\n",
       "    <tr>\n",
       "      <th>ZN</th>\n",
       "      <td>506.0</td>\n",
       "      <td>11.363636</td>\n",
       "      <td>23.322453</td>\n",
       "      <td>0.00000</td>\n",
       "      <td>0.000000</td>\n",
       "      <td>0.00000</td>\n",
       "      <td>12.500000</td>\n",
       "      <td>100.0000</td>\n",
       "    </tr>\n",
       "    <tr>\n",
       "      <th>INDUS</th>\n",
       "      <td>506.0</td>\n",
       "      <td>11.136779</td>\n",
       "      <td>6.860353</td>\n",
       "      <td>0.46000</td>\n",
       "      <td>5.190000</td>\n",
       "      <td>9.69000</td>\n",
       "      <td>18.100000</td>\n",
       "      <td>27.7400</td>\n",
       "    </tr>\n",
       "    <tr>\n",
       "      <th>CHAS</th>\n",
       "      <td>506.0</td>\n",
       "      <td>0.069170</td>\n",
       "      <td>0.253994</td>\n",
       "      <td>0.00000</td>\n",
       "      <td>0.000000</td>\n",
       "      <td>0.00000</td>\n",
       "      <td>0.000000</td>\n",
       "      <td>1.0000</td>\n",
       "    </tr>\n",
       "    <tr>\n",
       "      <th>NOX</th>\n",
       "      <td>506.0</td>\n",
       "      <td>0.554695</td>\n",
       "      <td>0.115878</td>\n",
       "      <td>0.38500</td>\n",
       "      <td>0.449000</td>\n",
       "      <td>0.53800</td>\n",
       "      <td>0.624000</td>\n",
       "      <td>0.8710</td>\n",
       "    </tr>\n",
       "    <tr>\n",
       "      <th>RM</th>\n",
       "      <td>506.0</td>\n",
       "      <td>6.284634</td>\n",
       "      <td>0.702617</td>\n",
       "      <td>3.56100</td>\n",
       "      <td>5.885500</td>\n",
       "      <td>6.20850</td>\n",
       "      <td>6.623500</td>\n",
       "      <td>8.7800</td>\n",
       "    </tr>\n",
       "    <tr>\n",
       "      <th>AGE</th>\n",
       "      <td>506.0</td>\n",
       "      <td>68.574901</td>\n",
       "      <td>28.148861</td>\n",
       "      <td>2.90000</td>\n",
       "      <td>45.025000</td>\n",
       "      <td>77.50000</td>\n",
       "      <td>94.075000</td>\n",
       "      <td>100.0000</td>\n",
       "    </tr>\n",
       "    <tr>\n",
       "      <th>DIS</th>\n",
       "      <td>506.0</td>\n",
       "      <td>3.795043</td>\n",
       "      <td>2.105710</td>\n",
       "      <td>1.12960</td>\n",
       "      <td>2.100175</td>\n",
       "      <td>3.20745</td>\n",
       "      <td>5.188425</td>\n",
       "      <td>12.1265</td>\n",
       "    </tr>\n",
       "    <tr>\n",
       "      <th>RAD</th>\n",
       "      <td>506.0</td>\n",
       "      <td>9.549407</td>\n",
       "      <td>8.707259</td>\n",
       "      <td>1.00000</td>\n",
       "      <td>4.000000</td>\n",
       "      <td>5.00000</td>\n",
       "      <td>24.000000</td>\n",
       "      <td>24.0000</td>\n",
       "    </tr>\n",
       "    <tr>\n",
       "      <th>TAX</th>\n",
       "      <td>506.0</td>\n",
       "      <td>408.237154</td>\n",
       "      <td>168.537116</td>\n",
       "      <td>187.00000</td>\n",
       "      <td>279.000000</td>\n",
       "      <td>330.00000</td>\n",
       "      <td>666.000000</td>\n",
       "      <td>711.0000</td>\n",
       "    </tr>\n",
       "    <tr>\n",
       "      <th>PTRATIO</th>\n",
       "      <td>506.0</td>\n",
       "      <td>18.455534</td>\n",
       "      <td>2.164946</td>\n",
       "      <td>12.60000</td>\n",
       "      <td>17.400000</td>\n",
       "      <td>19.05000</td>\n",
       "      <td>20.200000</td>\n",
       "      <td>22.0000</td>\n",
       "    </tr>\n",
       "    <tr>\n",
       "      <th>B</th>\n",
       "      <td>506.0</td>\n",
       "      <td>356.674032</td>\n",
       "      <td>91.294864</td>\n",
       "      <td>0.32000</td>\n",
       "      <td>375.377500</td>\n",
       "      <td>391.44000</td>\n",
       "      <td>396.225000</td>\n",
       "      <td>396.9000</td>\n",
       "    </tr>\n",
       "    <tr>\n",
       "      <th>LSTAT</th>\n",
       "      <td>506.0</td>\n",
       "      <td>12.653063</td>\n",
       "      <td>7.141062</td>\n",
       "      <td>1.73000</td>\n",
       "      <td>6.950000</td>\n",
       "      <td>11.36000</td>\n",
       "      <td>16.955000</td>\n",
       "      <td>37.9700</td>\n",
       "    </tr>\n",
       "    <tr>\n",
       "      <th>PRICE</th>\n",
       "      <td>506.0</td>\n",
       "      <td>22.532806</td>\n",
       "      <td>9.197104</td>\n",
       "      <td>5.00000</td>\n",
       "      <td>17.025000</td>\n",
       "      <td>21.20000</td>\n",
       "      <td>25.000000</td>\n",
       "      <td>50.0000</td>\n",
       "    </tr>\n",
       "  </tbody>\n",
       "</table>\n",
       "</div>"
      ],
      "text/plain": [
       "         count        mean         std        min         25%        50%  \\\n",
       "CRIM     506.0    3.613524    8.601545    0.00632    0.082045    0.25651   \n",
       "ZN       506.0   11.363636   23.322453    0.00000    0.000000    0.00000   \n",
       "INDUS    506.0   11.136779    6.860353    0.46000    5.190000    9.69000   \n",
       "CHAS     506.0    0.069170    0.253994    0.00000    0.000000    0.00000   \n",
       "NOX      506.0    0.554695    0.115878    0.38500    0.449000    0.53800   \n",
       "RM       506.0    6.284634    0.702617    3.56100    5.885500    6.20850   \n",
       "AGE      506.0   68.574901   28.148861    2.90000   45.025000   77.50000   \n",
       "DIS      506.0    3.795043    2.105710    1.12960    2.100175    3.20745   \n",
       "RAD      506.0    9.549407    8.707259    1.00000    4.000000    5.00000   \n",
       "TAX      506.0  408.237154  168.537116  187.00000  279.000000  330.00000   \n",
       "PTRATIO  506.0   18.455534    2.164946   12.60000   17.400000   19.05000   \n",
       "B        506.0  356.674032   91.294864    0.32000  375.377500  391.44000   \n",
       "LSTAT    506.0   12.653063    7.141062    1.73000    6.950000   11.36000   \n",
       "PRICE    506.0   22.532806    9.197104    5.00000   17.025000   21.20000   \n",
       "\n",
       "                75%       max  \n",
       "CRIM       3.677083   88.9762  \n",
       "ZN        12.500000  100.0000  \n",
       "INDUS     18.100000   27.7400  \n",
       "CHAS       0.000000    1.0000  \n",
       "NOX        0.624000    0.8710  \n",
       "RM         6.623500    8.7800  \n",
       "AGE       94.075000  100.0000  \n",
       "DIS        5.188425   12.1265  \n",
       "RAD       24.000000   24.0000  \n",
       "TAX      666.000000  711.0000  \n",
       "PTRATIO   20.200000   22.0000  \n",
       "B        396.225000  396.9000  \n",
       "LSTAT     16.955000   37.9700  \n",
       "PRICE     25.000000   50.0000  "
      ]
     },
     "execution_count": 40,
     "metadata": {},
     "output_type": "execute_result"
    }
   ],
   "source": [
    "df.describe().T"
   ]
  },
  {
   "cell_type": "code",
   "execution_count": 41,
   "id": "724b4fb6-7606-49cb-b795-1723a667b8a3",
   "metadata": {},
   "outputs": [
    {
     "data": {
      "text/html": [
       "<div>\n",
       "<style scoped>\n",
       "    .dataframe tbody tr th:only-of-type {\n",
       "        vertical-align: middle;\n",
       "    }\n",
       "\n",
       "    .dataframe tbody tr th {\n",
       "        vertical-align: top;\n",
       "    }\n",
       "\n",
       "    .dataframe thead th {\n",
       "        text-align: right;\n",
       "    }\n",
       "</style>\n",
       "<table border=\"1\" class=\"dataframe\">\n",
       "  <thead>\n",
       "    <tr style=\"text-align: right;\">\n",
       "      <th></th>\n",
       "      <th>Features</th>\n",
       "      <th>DataType</th>\n",
       "      <th>Null</th>\n",
       "      <th>NullPercentage</th>\n",
       "      <th>Unique</th>\n",
       "      <th>Unique Sample</th>\n",
       "    </tr>\n",
       "  </thead>\n",
       "  <tbody>\n",
       "    <tr>\n",
       "      <th>0</th>\n",
       "      <td>CRIM</td>\n",
       "      <td>float64</td>\n",
       "      <td>0</td>\n",
       "      <td>0.0</td>\n",
       "      <td>504</td>\n",
       "      <td>[5.66998, 0.09744]</td>\n",
       "    </tr>\n",
       "    <tr>\n",
       "      <th>1</th>\n",
       "      <td>ZN</td>\n",
       "      <td>float64</td>\n",
       "      <td>0</td>\n",
       "      <td>0.0</td>\n",
       "      <td>26</td>\n",
       "      <td>[82.5, 40.0]</td>\n",
       "    </tr>\n",
       "    <tr>\n",
       "      <th>2</th>\n",
       "      <td>INDUS</td>\n",
       "      <td>float64</td>\n",
       "      <td>0</td>\n",
       "      <td>0.0</td>\n",
       "      <td>76</td>\n",
       "      <td>[15.04, 4.93]</td>\n",
       "    </tr>\n",
       "    <tr>\n",
       "      <th>3</th>\n",
       "      <td>CHAS</td>\n",
       "      <td>float64</td>\n",
       "      <td>0</td>\n",
       "      <td>0.0</td>\n",
       "      <td>2</td>\n",
       "      <td>[0.0, 1.0]</td>\n",
       "    </tr>\n",
       "    <tr>\n",
       "      <th>4</th>\n",
       "      <td>NOX</td>\n",
       "      <td>float64</td>\n",
       "      <td>0</td>\n",
       "      <td>0.0</td>\n",
       "      <td>81</td>\n",
       "      <td>[0.411, 0.469]</td>\n",
       "    </tr>\n",
       "    <tr>\n",
       "      <th>5</th>\n",
       "      <td>RM</td>\n",
       "      <td>float64</td>\n",
       "      <td>0</td>\n",
       "      <td>0.0</td>\n",
       "      <td>446</td>\n",
       "      <td>[5.701, 5.898]</td>\n",
       "    </tr>\n",
       "    <tr>\n",
       "      <th>6</th>\n",
       "      <td>AGE</td>\n",
       "      <td>float64</td>\n",
       "      <td>0</td>\n",
       "      <td>0.0</td>\n",
       "      <td>356</td>\n",
       "      <td>[81.8, 42.6]</td>\n",
       "    </tr>\n",
       "    <tr>\n",
       "      <th>7</th>\n",
       "      <td>DIS</td>\n",
       "      <td>float64</td>\n",
       "      <td>0</td>\n",
       "      <td>0.0</td>\n",
       "      <td>412</td>\n",
       "      <td>[2.1099, 6.4798]</td>\n",
       "    </tr>\n",
       "    <tr>\n",
       "      <th>8</th>\n",
       "      <td>RAD</td>\n",
       "      <td>float64</td>\n",
       "      <td>0</td>\n",
       "      <td>0.0</td>\n",
       "      <td>9</td>\n",
       "      <td>[4.0, 6.0]</td>\n",
       "    </tr>\n",
       "    <tr>\n",
       "      <th>9</th>\n",
       "      <td>TAX</td>\n",
       "      <td>float64</td>\n",
       "      <td>0</td>\n",
       "      <td>0.0</td>\n",
       "      <td>66</td>\n",
       "      <td>[245.0, 270.0]</td>\n",
       "    </tr>\n",
       "    <tr>\n",
       "      <th>10</th>\n",
       "      <td>PTRATIO</td>\n",
       "      <td>float64</td>\n",
       "      <td>0</td>\n",
       "      <td>0.0</td>\n",
       "      <td>46</td>\n",
       "      <td>[17.0, 21.2]</td>\n",
       "    </tr>\n",
       "    <tr>\n",
       "      <th>11</th>\n",
       "      <td>B</td>\n",
       "      <td>float64</td>\n",
       "      <td>0</td>\n",
       "      <td>0.0</td>\n",
       "      <td>357</td>\n",
       "      <td>[6.68, 393.39]</td>\n",
       "    </tr>\n",
       "    <tr>\n",
       "      <th>12</th>\n",
       "      <td>LSTAT</td>\n",
       "      <td>float64</td>\n",
       "      <td>0</td>\n",
       "      <td>0.0</td>\n",
       "      <td>455</td>\n",
       "      <td>[8.88, 17.21]</td>\n",
       "    </tr>\n",
       "    <tr>\n",
       "      <th>13</th>\n",
       "      <td>PRICE</td>\n",
       "      <td>float64</td>\n",
       "      <td>0</td>\n",
       "      <td>0.0</td>\n",
       "      <td>229</td>\n",
       "      <td>[19.9, 31.1]</td>\n",
       "    </tr>\n",
       "  </tbody>\n",
       "</table>\n",
       "</div>"
      ],
      "text/plain": [
       "   Features DataType  Null  NullPercentage  Unique       Unique Sample\n",
       "0      CRIM  float64     0             0.0     504  [5.66998, 0.09744]\n",
       "1        ZN  float64     0             0.0      26        [82.5, 40.0]\n",
       "2     INDUS  float64     0             0.0      76       [15.04, 4.93]\n",
       "3      CHAS  float64     0             0.0       2          [0.0, 1.0]\n",
       "4       NOX  float64     0             0.0      81      [0.411, 0.469]\n",
       "5        RM  float64     0             0.0     446      [5.701, 5.898]\n",
       "6       AGE  float64     0             0.0     356        [81.8, 42.6]\n",
       "7       DIS  float64     0             0.0     412    [2.1099, 6.4798]\n",
       "8       RAD  float64     0             0.0       9          [4.0, 6.0]\n",
       "9       TAX  float64     0             0.0      66      [245.0, 270.0]\n",
       "10  PTRATIO  float64     0             0.0      46        [17.0, 21.2]\n",
       "11        B  float64     0             0.0     357      [6.68, 393.39]\n",
       "12    LSTAT  float64     0             0.0     455       [8.88, 17.21]\n",
       "13    PRICE  float64     0             0.0     229        [19.9, 31.1]"
      ]
     },
     "execution_count": 41,
     "metadata": {},
     "output_type": "execute_result"
    }
   ],
   "source": [
    "bsDesc = []\n",
    "for i in df.columns:\n",
    "    bsDesc.append([i,\n",
    "                   df[i].dtypes,\n",
    "                   df[i].isna().sum(),\n",
    "                   round(((df[i].isna().sum()/len(df))*100),2),\n",
    "                   df[i].nunique(),\n",
    "                   df[i].drop_duplicates().sample(2).values])\n",
    "pd.DataFrame(data=bsDesc,\n",
    "            columns=['Features',\n",
    "                     'DataType',\n",
    "                     'Null',\n",
    "                     'NullPercentage',\n",
    "                     'Unique',\n",
    "                    'Unique Sample'])"
   ]
  },
  {
   "cell_type": "code",
   "execution_count": 42,
   "id": "1f4cc64c-48cc-47b8-943e-6e0afc249c14",
   "metadata": {},
   "outputs": [],
   "source": [
    "import warnings\n",
    "warnings.filterwarnings('ignore')"
   ]
  },
  {
   "cell_type": "code",
   "execution_count": 43,
   "id": "e5247298-cf3b-4347-827a-ac671a569ab6",
   "metadata": {},
   "outputs": [
    {
     "data": {
      "image/png": "[encoded data removed]",
      "text/plain": [
       "<Figure size 432x288 with 1 Axes>"
      ]
     },
     "metadata": {
      "needs_background": "light"
     },
     "output_type": "display_data"
    }
   ],
   "source": [
    "sns.boxplot(df['PRICE'])\n",
    "plt.show()"
   ]
  },
  {
   "cell_type": "code",
   "execution_count": 44,
   "id": "78c298c7-d465-4fea-bec0-fb402b1d0837",
   "metadata": {},
   "outputs": [
    {
     "data": {
      "image/png": "[encoded data removed]",
      "text/plain": [
       "<Figure size 432x288 with 1 Axes>"
      ]
     },
     "metadata": {
      "needs_background": "light"
     },
     "output_type": "display_data"
    }
   ],
   "source": [
    "sns.distplot(df['PRICE'])\n",
    "plt.show()"
   ]
  },
  {
   "cell_type": "code",
   "execution_count": 45,
   "id": "bd325606-aa63-4498-833c-138ec5bd7339",
   "metadata": {},
   "outputs": [
    {
     "data": {
      "image/png": "[encoded data removed]",
      "text/plain": [
       "<Figure size 720x720 with 2 Axes>"
      ]
     },
     "metadata": {
      "needs_background": "light"
     },
     "output_type": "display_data"
    }
   ],
   "source": [
    "# Pearson\n",
    "plt.figure(figsize=(10,10))\n",
    "sns.heatmap(df.corr(),annot=True)\n",
    "plt.show()"
   ]
  },
  {
   "cell_type": "code",
   "execution_count": 46,
   "id": "56660a18-a085-4879-b0d4-bb8389d98567",
   "metadata": {},
   "outputs": [
    {
     "data": {
      "image/png": "[encoded data removed]",
      "text/plain": [
       "<Figure size 720x720 with 2 Axes>"
      ]
     },
     "metadata": {
      "needs_background": "light"
     },
     "output_type": "display_data"
    }
   ],
   "source": [
    "# Spearman\n",
    "plt.figure(figsize=(10,10))\n",
    "sns.heatmap(df.corr('spearman'),annot=True)\n",
    "plt.show()"
   ]
  },
  {
   "cell_type": "code",
   "execution_count": 47,
   "id": "5d601084-535d-4d25-9e41-3a4024c57ac4",
   "metadata": {},
   "outputs": [],
   "source": [
    "# Feature Engineering & feature selection"
   ]
  },
  {
   "cell_type": "code",
   "execution_count": null,
   "id": "2ab89ea3-d7ac-486d-9b37-73ddbdf8542c",
   "metadata": {},
   "outputs": [],
   "source": [
    "# drop column which has correlation under 0.5 atau -0.5\n",
    "df.drop(columns=['ZN', 'CHAS', 'DIS', 'RAD', 'B'], inplace =True)"
   ]
  },
  {
   "cell_type": "code",
   "execution_count": 49,
   "id": "dca1b9ba-6fec-441a-8d6f-0a7b6c382b87",
   "metadata": {},
   "outputs": [
    {
     "data": {
      "text/html": [
       "<div>\n",
       "<style scoped>\n",
       "    .dataframe tbody tr th:only-of-type {\n",
       "        vertical-align: middle;\n",
       "    }\n",
       "\n",
       "    .dataframe tbody tr th {\n",
       "        vertical-align: top;\n",
       "    }\n",
       "\n",
       "    .dataframe thead th {\n",
       "        text-align: right;\n",
       "    }\n",
       "</style>\n",
       "<table border=\"1\" class=\"dataframe\">\n",
       "  <thead>\n",
       "    <tr style=\"text-align: right;\">\n",
       "      <th></th>\n",
       "      <th>CRIM</th>\n",
       "      <th>INDUS</th>\n",
       "      <th>NOX</th>\n",
       "      <th>RM</th>\n",
       "      <th>AGE</th>\n",
       "      <th>TAX</th>\n",
       "      <th>PTRATIO</th>\n",
       "      <th>LSTAT</th>\n",
       "      <th>PRICE</th>\n",
       "    </tr>\n",
       "  </thead>\n",
       "  <tbody>\n",
       "    <tr>\n",
       "      <th>0</th>\n",
       "      <td>0.00632</td>\n",
       "      <td>2.31</td>\n",
       "      <td>0.538</td>\n",
       "      <td>6.575</td>\n",
       "      <td>65.2</td>\n",
       "      <td>296.0</td>\n",
       "      <td>15.3</td>\n",
       "      <td>4.98</td>\n",
       "      <td>24.0</td>\n",
       "    </tr>\n",
       "    <tr>\n",
       "      <th>1</th>\n",
       "      <td>0.02731</td>\n",
       "      <td>7.07</td>\n",
       "      <td>0.469</td>\n",
       "      <td>6.421</td>\n",
       "      <td>78.9</td>\n",
       "      <td>242.0</td>\n",
       "      <td>17.8</td>\n",
       "      <td>9.14</td>\n",
       "      <td>21.6</td>\n",
       "    </tr>\n",
       "    <tr>\n",
       "      <th>2</th>\n",
       "      <td>0.02729</td>\n",
       "      <td>7.07</td>\n",
       "      <td>0.469</td>\n",
       "      <td>7.185</td>\n",
       "      <td>61.1</td>\n",
       "      <td>242.0</td>\n",
       "      <td>17.8</td>\n",
       "      <td>4.03</td>\n",
       "      <td>34.7</td>\n",
       "    </tr>\n",
       "    <tr>\n",
       "      <th>3</th>\n",
       "      <td>0.03237</td>\n",
       "      <td>2.18</td>\n",
       "      <td>0.458</td>\n",
       "      <td>6.998</td>\n",
       "      <td>45.8</td>\n",
       "      <td>222.0</td>\n",
       "      <td>18.7</td>\n",
       "      <td>2.94</td>\n",
       "      <td>33.4</td>\n",
       "    </tr>\n",
       "    <tr>\n",
       "      <th>4</th>\n",
       "      <td>0.06905</td>\n",
       "      <td>2.18</td>\n",
       "      <td>0.458</td>\n",
       "      <td>7.147</td>\n",
       "      <td>54.2</td>\n",
       "      <td>222.0</td>\n",
       "      <td>18.7</td>\n",
       "      <td>5.33</td>\n",
       "      <td>36.2</td>\n",
       "    </tr>\n",
       "  </tbody>\n",
       "</table>\n",
       "</div>"
      ],
      "text/plain": [
       "      CRIM  INDUS    NOX     RM   AGE    TAX  PTRATIO  LSTAT  PRICE\n",
       "0  0.00632   2.31  0.538  6.575  65.2  296.0     15.3   4.98   24.0\n",
       "1  0.02731   7.07  0.469  6.421  78.9  242.0     17.8   9.14   21.6\n",
       "2  0.02729   7.07  0.469  7.185  61.1  242.0     17.8   4.03   34.7\n",
       "3  0.03237   2.18  0.458  6.998  45.8  222.0     18.7   2.94   33.4\n",
       "4  0.06905   2.18  0.458  7.147  54.2  222.0     18.7   5.33   36.2"
      ]
     },
     "execution_count": 49,
     "metadata": {},
     "output_type": "execute_result"
    }
   ],
   "source": [
    "df.head()"
   ]
  },
  {
   "cell_type": "code",
   "execution_count": 50,
   "id": "4eea76cb-beb1-461d-b5bc-65593fd31c3f",
   "metadata": {},
   "outputs": [],
   "source": [
    "X = df.drop(columns='PRICE')\n",
    "y = df['PRICE']"
   ]
  },
  {
   "cell_type": "code",
   "execution_count": null,
   "id": "ab8b077b-a070-4f2a-9973-5e28814929b8",
   "metadata": {},
   "outputs": [],
   "source": [
    "# splitting data"
   ]
  },
  {
   "cell_type": "code",
   "execution_count": null,
   "id": "248f2a07-94fa-4196-a282-9bc25e562859",
   "metadata": {},
   "outputs": [],
   "source": [
    "# Splitting ata"
   ]
  },
  {
   "cell_type": "code",
   "execution_count": 51,
   "id": "7599e7f5-1895-47b5-9049-6457e234ae1c",
   "metadata": {},
   "outputs": [],
   "source": [
    "X = df.drop(columns ='PRICE') #features\n",
    "y = df['PRICE'] #target"
   ]
  },
  {
   "cell_type": "code",
   "execution_count": 52,
   "id": "9f7aa776-718b-4283-a408-2518ee4d8a3b",
   "metadata": {},
   "outputs": [],
   "source": [
    "from sklearn.model_selection import train_test_split"
   ]
  },
  {
   "cell_type": "code",
   "execution_count": null,
   "id": "1cfc7c17-95c7-475d-82df-8ba86bae2ac4",
   "metadata": {},
   "outputs": [],
   "source": [
    "X_train, X_test, y_train, y_test = train_test_split(X, y, train_size =.85, random_state = 42)"
   ]
  },
  {
   "cell_type": "code",
   "execution_count": 54,
   "id": "81473c5a-a2f1-4e74-ac77-2c8e00201e98",
   "metadata": {},
   "outputs": [
    {
     "data": {
      "text/html": [
       "<div>\n",
       "<style scoped>\n",
       "    .dataframe tbody tr th:only-of-type {\n",
       "        vertical-align: middle;\n",
       "    }\n",
       "\n",
       "    .dataframe tbody tr th {\n",
       "        vertical-align: top;\n",
       "    }\n",
       "\n",
       "    .dataframe thead th {\n",
       "        text-align: right;\n",
       "    }\n",
       "</style>\n",
       "<table border=\"1\" class=\"dataframe\">\n",
       "  <thead>\n",
       "    <tr style=\"text-align: right;\">\n",
       "      <th></th>\n",
       "      <th>CRIM</th>\n",
       "      <th>INDUS</th>\n",
       "      <th>NOX</th>\n",
       "      <th>RM</th>\n",
       "      <th>AGE</th>\n",
       "      <th>TAX</th>\n",
       "      <th>PTRATIO</th>\n",
       "      <th>LSTAT</th>\n",
       "    </tr>\n",
       "  </thead>\n",
       "  <tbody>\n",
       "    <tr>\n",
       "      <th>104</th>\n",
       "      <td>0.13960</td>\n",
       "      <td>8.56</td>\n",
       "      <td>0.5200</td>\n",
       "      <td>6.167</td>\n",
       "      <td>90.0</td>\n",
       "      <td>384.0</td>\n",
       "      <td>20.9</td>\n",
       "      <td>12.33</td>\n",
       "    </tr>\n",
       "    <tr>\n",
       "      <th>203</th>\n",
       "      <td>0.03510</td>\n",
       "      <td>2.68</td>\n",
       "      <td>0.4161</td>\n",
       "      <td>7.853</td>\n",
       "      <td>33.2</td>\n",
       "      <td>224.0</td>\n",
       "      <td>14.7</td>\n",
       "      <td>3.81</td>\n",
       "    </tr>\n",
       "    <tr>\n",
       "      <th>381</th>\n",
       "      <td>15.87440</td>\n",
       "      <td>18.10</td>\n",
       "      <td>0.6710</td>\n",
       "      <td>6.545</td>\n",
       "      <td>99.1</td>\n",
       "      <td>666.0</td>\n",
       "      <td>20.2</td>\n",
       "      <td>21.08</td>\n",
       "    </tr>\n",
       "    <tr>\n",
       "      <th>489</th>\n",
       "      <td>0.18337</td>\n",
       "      <td>27.74</td>\n",
       "      <td>0.6090</td>\n",
       "      <td>5.414</td>\n",
       "      <td>98.3</td>\n",
       "      <td>711.0</td>\n",
       "      <td>20.1</td>\n",
       "      <td>23.97</td>\n",
       "    </tr>\n",
       "    <tr>\n",
       "      <th>69</th>\n",
       "      <td>0.12816</td>\n",
       "      <td>6.07</td>\n",
       "      <td>0.4090</td>\n",
       "      <td>5.885</td>\n",
       "      <td>33.0</td>\n",
       "      <td>345.0</td>\n",
       "      <td>18.9</td>\n",
       "      <td>8.79</td>\n",
       "    </tr>\n",
       "  </tbody>\n",
       "</table>\n",
       "</div>"
      ],
      "text/plain": [
       "         CRIM  INDUS     NOX     RM   AGE    TAX  PTRATIO  LSTAT\n",
       "104   0.13960   8.56  0.5200  6.167  90.0  384.0     20.9  12.33\n",
       "203   0.03510   2.68  0.4161  7.853  33.2  224.0     14.7   3.81\n",
       "381  15.87440  18.10  0.6710  6.545  99.1  666.0     20.2  21.08\n",
       "489   0.18337  27.74  0.6090  5.414  98.3  711.0     20.1  23.97\n",
       "69    0.12816   6.07  0.4090  5.885  33.0  345.0     18.9   8.79"
      ]
     },
     "execution_count": 54,
     "metadata": {},
     "output_type": "execute_result"
    }
   ],
   "source": [
    "X_train.head()"
   ]
  },
  {
   "cell_type": "code",
   "execution_count": 55,
   "id": "e2384392-49d2-4bb8-aabd-e2b147e73b29",
   "metadata": {},
   "outputs": [
    {
     "data": {
      "text/plain": [
       "173    23.6\n",
       "274    32.4\n",
       "491    13.6\n",
       "72     22.8\n",
       "452    16.1\n",
       "Name: PRICE, dtype: float64"
      ]
     },
     "execution_count": 55,
     "metadata": {},
     "output_type": "execute_result"
    }
   ],
   "source": [
    "y_test.head()"
   ]
  },
  {
   "cell_type": "code",
   "execution_count": 56,
   "id": "e42c5230-190c-41dc-8795-01cf1e5c07be",
   "metadata": {},
   "outputs": [
    {
     "data": {
      "text/plain": [
       "(430, 8)"
      ]
     },
     "execution_count": 56,
     "metadata": {},
     "output_type": "execute_result"
    }
   ],
   "source": [
    "X_train.shape"
   ]
  },
  {
   "cell_type": "code",
   "execution_count": 57,
   "id": "b09764c6-816e-42af-abaf-6fe4aa10b93a",
   "metadata": {},
   "outputs": [
    {
     "data": {
      "text/plain": [
       "(76, 8)"
      ]
     },
     "execution_count": 57,
     "metadata": {},
     "output_type": "execute_result"
    }
   ],
   "source": [
    "X_test.shape"
   ]
  },
  {
   "cell_type": "code",
   "execution_count": 58,
   "id": "40962491-3251-4dae-9645-d07682d8e3d9",
   "metadata": {},
   "outputs": [],
   "source": [
    "# Machine Learning Modelling"
   ]
  },
  {
   "cell_type": "code",
   "execution_count": 59,
   "id": "12837fa6-2ace-4971-86a5-f763b40daaea",
   "metadata": {},
   "outputs": [],
   "source": [
    "from sklearn.linear_model import LinearRegression"
   ]
  },
  {
   "cell_type": "code",
   "execution_count": 60,
   "id": "6d6f986f-85b8-4c7c-a812-1bbf5a421d42",
   "metadata": {},
   "outputs": [],
   "source": [
    "Model = LinearRegression()"
   ]
  },
  {
   "cell_type": "code",
   "execution_count": 61,
   "id": "beaef34f-2486-4e06-97f0-8b9a727f7b0e",
   "metadata": {},
   "outputs": [
    {
     "data": {
      "text/plain": [
       "LinearRegression()"
      ]
     },
     "execution_count": 61,
     "metadata": {},
     "output_type": "execute_result"
    }
   ],
   "source": [
    "Model.fit(X_train, y_train)"
   ]
  },
  {
   "cell_type": "code",
   "execution_count": 62,
   "id": "7ebc72a6-24a7-4f1a-8c9d-4472bde4f0de",
   "metadata": {},
   "outputs": [],
   "source": [
    "# quick evaluation"
   ]
  },
  {
   "cell_type": "code",
   "execution_count": 63,
   "id": "0f476b6f-7d02-4e8c-81c4-ca80c837dd83",
   "metadata": {},
   "outputs": [
    {
     "data": {
      "text/plain": [
       "0.673312668221781"
      ]
     },
     "execution_count": 63,
     "metadata": {},
     "output_type": "execute_result"
    }
   ],
   "source": [
    "Model.score(X_train, y_train) #evaluation matrix train set"
   ]
  },
  {
   "cell_type": "code",
   "execution_count": 64,
   "id": "c12abe5c-7419-46eb-a3fe-c5397ee37f88",
   "metadata": {},
   "outputs": [
    {
     "data": {
      "text/plain": [
       "0.7714453755347112"
      ]
     },
     "execution_count": 64,
     "metadata": {},
     "output_type": "execute_result"
    }
   ],
   "source": [
    "Model.score(X_test, y_test)"
   ]
  },
  {
   "cell_type": "code",
   "execution_count": 66,
   "id": "ebb18375-c05d-4efc-999d-adf8ead77979",
   "metadata": {},
   "outputs": [
    {
     "data": {
      "text/plain": [
       "0.7714453755347112"
      ]
     },
     "execution_count": 66,
     "metadata": {},
     "output_type": "execute_result"
    }
   ],
   "source": [
    "Model = LinearRegression()\n",
    "Model.fit(X_train, y_train)\n",
    "Model.score(X_test, y_test)"
   ]
  },
  {
   "cell_type": "code",
   "execution_count": 67,
   "id": "a9f7726c-6064-4cf4-9837-96d6eca019d0",
   "metadata": {},
   "outputs": [
    {
     "data": {
      "text/plain": [
       "array([21.14594257, 37.53402722, 16.90760971, 12.58762893, 22.39214307,\n",
       "       10.82285499, 23.81734353,  7.55440798, 23.0439956 , 28.3746401 ,\n",
       "       20.53884625, 25.30035335, 25.93566612, 21.0975144 , 23.90175066,\n",
       "        6.93121496, 21.85818658, 20.58936803, 12.36984416, 22.80070962,\n",
       "       23.30690703,  0.92402524, 17.70312697, 18.07469958, 20.86151628,\n",
       "       24.93734057,  9.63145718, 20.37025269, 24.82857538, 14.21281627,\n",
       "       18.70465247, 25.01923747, 21.40392364, 27.62158282, 11.48247872,\n",
       "       19.76649536, 23.51203167, 24.32409138, 31.85083384, 18.66165798,\n",
       "       33.35674755, 15.60801384, 19.05492486, 27.77211361, 20.18281491,\n",
       "       25.59844751, 10.29347263, 24.22193766, 24.99105913, 23.09617558,\n",
       "       27.0632802 , 32.69929852, 22.53763514, 38.27671915, 12.01283572,\n",
       "       25.93347546, 20.28740461, 20.92031712, 10.81206871, 22.30778158,\n",
       "       21.30724718, 32.82254006, 30.51556666, 17.48619733, 18.27318395,\n",
       "       29.84459396, 23.52582538, 13.1345321 ,  6.05452648, 25.34010418,\n",
       "       23.05777864, 17.07698956, 15.05026179, 39.81866485, 19.36524128,\n",
       "       18.22501677, 27.4102502 , 23.4531654 , 21.2665637 , 20.8604402 ,\n",
       "       15.64724568, 23.9213348 , 30.75547438,  7.97869484, 22.38443773,\n",
       "       19.22986362, 19.47667043, 25.2426815 , 24.45547753, 23.08356503,\n",
       "       40.71001308, 17.96553915, 17.76074165, 22.43188394, 20.91693294,\n",
       "       22.79839037, 21.53749938, 35.17076564, 21.20566564, 20.13809591,\n",
       "       25.21006829, 28.53502781, 34.42118397, 26.69377769,  9.11444745,\n",
       "        1.90022161, 10.7259343 , 17.21497918, 29.9465326 , 29.21675663,\n",
       "       20.09073538,  2.82603246, 28.9902099 , 22.331555  , 19.58465658,\n",
       "       28.38359403, 17.34544062, 16.73853323, 10.2099595 , 30.62933259,\n",
       "       26.3782329 , 19.50703064, 20.00307674, 15.48004535, 26.72623914,\n",
       "       19.71134949, 28.32879832, 29.36122289, 24.58970755, 24.58077851,\n",
       "       28.04571324, 42.02282235, 30.57634129, 33.48664334, 24.6665219 ,\n",
       "       25.43982346, 18.60567234, 34.55380142, 20.27826633, 30.90759823,\n",
       "       26.9461922 , 19.7317329 , 20.7637803 , 11.5228887 , 33.16104242,\n",
       "       35.98323671, 33.33122107,  3.46972924, 19.1549645 , 20.67710148,\n",
       "       36.97644511, 17.40301529, 21.98893079, 24.46917002, 26.82096582,\n",
       "       13.91748673, 21.67905301, 27.29679852, 30.80662897, 29.0188291 ,\n",
       "       24.65067201, 36.11403974, 28.38048827, 33.50066055, 30.32758191,\n",
       "       23.67654273, 28.52046834, 14.55783094, 20.30672199, 24.51587208,\n",
       "       22.4634182 ,  0.78893954, 20.23728346, 27.65929939, 20.77311638,\n",
       "       18.71382443, 25.20601995, 14.74925699, 32.62456358, 29.75073326,\n",
       "       35.54813805, 18.33592996, 20.04941247, 17.78000947,  9.0183612 ,\n",
       "       14.85830348, 26.6121101 , 14.26295212,  7.72256272, 23.79125235,\n",
       "       13.30026459, 28.63012126, 31.37231149, 36.66033047, 30.18168235,\n",
       "       19.08733607, 29.73048531, 36.26809891, 22.81461955, 18.12849334,\n",
       "       27.72095329, 18.27857828, 18.10248452,  7.94909426, 21.84439449,\n",
       "       20.9014248 , 26.11230798, 28.7212313 , 17.51017981, 27.42829033,\n",
       "       15.08485518, 15.1181741 , 30.42650585, 20.82842887, 15.35905032,\n",
       "       22.35843571, 20.28036264, 21.59968394, 25.23534815, 30.86996533,\n",
       "        5.59958938, 20.58185583, 30.48744023, 15.68155206, 28.07639659,\n",
       "       24.16848728, 19.67691477, 16.25839899, 37.64502575, 26.76180461,\n",
       "       25.86655653, 17.27995016, 33.55000153, 35.25140171, 39.02709929,\n",
       "       20.73239723, 19.93978011, 22.74198266, 37.94635428,  4.818048  ,\n",
       "       21.26377305, 16.12135861, 28.39576387, 11.41141899, 19.72089395,\n",
       "       -3.9336456 , 17.67487249, 17.96095905, 10.43169246, 23.59818545,\n",
       "       14.53061689, 28.56798618, 38.93570008, 27.79827877, 25.63791611,\n",
       "       34.36697282, 11.86981785, 29.54736707, 21.0544343 , 22.3918287 ,\n",
       "       22.10151526, 24.45771602, 12.8329601 , 17.08567794, 27.59932085,\n",
       "       18.78750001, 28.18003538, 25.79186851, 27.94478235, 15.87258965,\n",
       "       11.28700425, 30.553602  , 28.05428361, 11.8412358 , 16.06610326,\n",
       "       23.62237527, 37.38804837, 26.95126395, 15.08129803, 30.2850027 ,\n",
       "       35.4049212 , 23.46867248, 24.95195449, 37.88660904, 19.94614159,\n",
       "       24.01599793, 16.50986295, 25.95331605, 34.43950488, 27.31452208,\n",
       "       23.50988062, 20.49014144, 19.60261293, 10.18171127, 38.96104615,\n",
       "       19.96831612, 31.28677812, 19.81925012, 17.2078631 , 19.05565308,\n",
       "       23.03010045, 32.8957033 , 27.56221915, 40.51550641, 14.661363  ,\n",
       "       14.42589695, 26.29364732, 19.12274975, 20.531188  , 28.67065789,\n",
       "       13.703142  , 24.39912184, 16.38480891, 29.03762214, 32.53904768,\n",
       "       21.52162656, 18.54998471, 30.95728773, 14.96717677, 16.77345502,\n",
       "       18.65753043, 22.07942695, 31.95042852, 11.54569918, 27.00925853,\n",
       "       20.22293563, 27.44430415, 17.75494225, 18.3522481 , 30.20837529,\n",
       "       19.92346983, 26.61599098, 18.60181397, 19.60761866, 31.34487505,\n",
       "       25.97119079, 20.53148273, 28.22825647, 39.00483223, 24.18345422,\n",
       "       28.80924917, 16.46764189, 31.89582647, 23.33875363, 33.64948266,\n",
       "       17.52723178, 24.26324397, 12.34742123, 26.84550413, 18.06459234,\n",
       "       16.11908498, 18.39272532, 16.16545244, 27.85789353, 20.61541671,\n",
       "       15.83840588, 18.86842631, 32.9067884 , 16.89381396, 14.52289185,\n",
       "       26.77916485, 20.5553254 , 20.48674442, 28.39211583, 22.2429268 ,\n",
       "       34.19113128, 24.25359993, 21.20511393, 21.29591064, 31.51834443,\n",
       "        2.46824765, 32.13839657, 39.90183398, 22.65179302, 20.30077988,\n",
       "       16.36796015, 31.64139289, 19.42759819, 21.57717496, 27.67510675,\n",
       "       17.26083961, 17.24887665, 22.02060675, 20.21316432, 24.32160236,\n",
       "       14.447317  , 33.4198504 , 22.01236066, 23.34621078, 30.96924637,\n",
       "       28.56619635, 23.35030719,  9.97115598, 29.52379797, 23.68732244,\n",
       "       28.84276295, 18.95953583, 26.11583816, 18.50907834, 31.40851716,\n",
       "       31.55790477, 17.91760437, 31.583862  ,  5.15612492, 25.91780707,\n",
       "       11.12680476, 28.29828846, 42.33539244, 29.72751372, 16.77016253,\n",
       "       22.33849161, 21.15945703, 19.48373666, 32.09381624, 21.58342023,\n",
       "       24.45079227, 18.4449245 , 24.63823287,  6.73460259, 17.16713607,\n",
       "       21.14590435, 22.50527337, 13.20792839, 30.79413327, 21.41598034,\n",
       "       15.94769382, 19.87318041, 28.48779591, 15.57344633, 23.02521453])"
      ]
     },
     "execution_count": 67,
     "metadata": {},
     "output_type": "execute_result"
    }
   ],
   "source": [
    "Model.predict(X_train)"
   ]
  },
  {
   "cell_type": "code",
   "execution_count": 68,
   "id": "e50f444b-eb3e-4dc6-be4d-4942cf08e94b",
   "metadata": {},
   "outputs": [
    {
     "data": {
      "text/plain": [
       "array([27.71274247, 30.23806905, 18.66051364, 24.13199416, 18.31319309,\n",
       "       24.22514792, 18.28744906, 13.90834399, 22.16132659, 20.04598494,\n",
       "       21.15745083, 22.53911909, -3.90625733, 22.98858341, 20.15871788,\n",
       "       24.56402377, 19.05417052,  3.79919279, 38.20565598, 17.25801826,\n",
       "       24.42645913, 26.78912864, 12.72909004, 23.41995204, 17.94616649,\n",
       "       14.9463433 , 22.7176821 , 19.08137175, 19.76669938, 18.81103808,\n",
       "       20.78553255, 25.18417395, 24.54939544, 18.33816489, 15.77069527,\n",
       "       20.86440106, 32.5712633 , 20.04999896, 20.5137149 , 23.62529659,\n",
       "       12.88166894, 28.45077238, 38.8357686 , 18.67149668, 26.15787193,\n",
       "       16.0312793 , 15.27980211, 24.89447908, 19.15463886, 31.00008999,\n",
       "       24.76337213, 32.99565882, 16.84389851, 25.91249358, 37.38449384,\n",
       "       22.01316199, 18.44502057, 29.32545687, 24.56403086, 16.38717112,\n",
       "       24.99998824, 30.91175014, 28.47503362, 15.98630441, 27.84055577,\n",
       "       13.85124593, 19.32512503, 25.09018597, 27.90682409, 15.74111755,\n",
       "       19.31712555, 26.79331065, 11.83602708, 20.86972922, 23.52856447,\n",
       "        4.58021963])"
      ]
     },
     "execution_count": 68,
     "metadata": {},
     "output_type": "execute_result"
    }
   ],
   "source": [
    "Model.predict(X_test)"
   ]
  },
  {
   "cell_type": "code",
   "execution_count": 69,
   "id": "2f88fb02-dad3-4bd5-9038-d0bf252c1284",
   "metadata": {},
   "outputs": [
    {
     "data": {
      "text/plain": [
       "20.924486266056945"
      ]
     },
     "execution_count": 69,
     "metadata": {},
     "output_type": "execute_result"
    }
   ],
   "source": [
    "Model.intercept_"
   ]
  },
  {
   "cell_type": "code",
   "execution_count": 70,
   "id": "14f407db-957c-41b8-8d1a-44d639818704",
   "metadata": {},
   "outputs": [
    {
     "data": {
      "text/plain": [
       "array([-7.45742987e-02,  6.22184157e-02, -8.00488739e+00,  4.35949056e+00,\n",
       "        3.90064256e-02,  6.73181212e-04, -9.25250046e-01, -6.04583418e-01])"
      ]
     },
     "execution_count": 70,
     "metadata": {},
     "output_type": "execute_result"
    }
   ],
   "source": [
    "Model.coef_"
   ]
  },
  {
   "cell_type": "code",
   "execution_count": 71,
   "id": "49ec5657-6b42-46c6-9916-1cd2e5326c3b",
   "metadata": {},
   "outputs": [
    {
     "data": {
      "text/plain": [
       "Index(['CRIM', 'INDUS', 'NOX', 'RM', 'AGE', 'TAX', 'PTRATIO', 'LSTAT'], dtype='object')"
      ]
     },
     "execution_count": 71,
     "metadata": {},
     "output_type": "execute_result"
    }
   ],
   "source": [
    "X_train.columns"
   ]
  },
  {
   "cell_type": "code",
   "execution_count": 72,
   "id": "a6cba094-ce2d-47d2-b860-365b05cd7406",
   "metadata": {},
   "outputs": [
    {
     "data": {
      "text/html": [
       "<div>\n",
       "<style scoped>\n",
       "    .dataframe tbody tr th:only-of-type {\n",
       "        vertical-align: middle;\n",
       "    }\n",
       "\n",
       "    .dataframe tbody tr th {\n",
       "        vertical-align: top;\n",
       "    }\n",
       "\n",
       "    .dataframe thead th {\n",
       "        text-align: right;\n",
       "    }\n",
       "</style>\n",
       "<table border=\"1\" class=\"dataframe\">\n",
       "  <thead>\n",
       "    <tr style=\"text-align: right;\">\n",
       "      <th></th>\n",
       "      <th>Coef</th>\n",
       "    </tr>\n",
       "  </thead>\n",
       "  <tbody>\n",
       "    <tr>\n",
       "      <th>CRIM</th>\n",
       "      <td>-0.074574</td>\n",
       "    </tr>\n",
       "    <tr>\n",
       "      <th>INDUS</th>\n",
       "      <td>0.062218</td>\n",
       "    </tr>\n",
       "    <tr>\n",
       "      <th>NOX</th>\n",
       "      <td>-8.004887</td>\n",
       "    </tr>\n",
       "    <tr>\n",
       "      <th>RM</th>\n",
       "      <td>4.359491</td>\n",
       "    </tr>\n",
       "    <tr>\n",
       "      <th>AGE</th>\n",
       "      <td>0.039006</td>\n",
       "    </tr>\n",
       "    <tr>\n",
       "      <th>TAX</th>\n",
       "      <td>0.000673</td>\n",
       "    </tr>\n",
       "    <tr>\n",
       "      <th>PTRATIO</th>\n",
       "      <td>-0.925250</td>\n",
       "    </tr>\n",
       "    <tr>\n",
       "      <th>LSTAT</th>\n",
       "      <td>-0.604583</td>\n",
       "    </tr>\n",
       "  </tbody>\n",
       "</table>\n",
       "</div>"
      ],
      "text/plain": [
       "             Coef\n",
       "CRIM    -0.074574\n",
       "INDUS    0.062218\n",
       "NOX     -8.004887\n",
       "RM       4.359491\n",
       "AGE      0.039006\n",
       "TAX      0.000673\n",
       "PTRATIO -0.925250\n",
       "LSTAT   -0.604583"
      ]
     },
     "execution_count": 72,
     "metadata": {},
     "output_type": "execute_result"
    }
   ],
   "source": [
    "pd.DataFrame(data=Model.coef_, index=X_train.columns, columns=['Coef'])"
   ]
  },
  {
   "cell_type": "code",
   "execution_count": 74,
   "id": "0619bbea-2d61-4b16-9399-70a7196079f3",
   "metadata": {},
   "outputs": [
    {
     "data": {
      "text/html": [
       "<div>\n",
       "<style scoped>\n",
       "    .dataframe tbody tr th:only-of-type {\n",
       "        vertical-align: middle;\n",
       "    }\n",
       "\n",
       "    .dataframe tbody tr th {\n",
       "        vertical-align: top;\n",
       "    }\n",
       "\n",
       "    .dataframe thead th {\n",
       "        text-align: right;\n",
       "    }\n",
       "</style>\n",
       "<table border=\"1\" class=\"dataframe\">\n",
       "  <thead>\n",
       "    <tr style=\"text-align: right;\">\n",
       "      <th></th>\n",
       "      <th>CRIM</th>\n",
       "      <th>INDUS</th>\n",
       "      <th>NOX</th>\n",
       "      <th>RM</th>\n",
       "      <th>AGE</th>\n",
       "      <th>TAX</th>\n",
       "      <th>PTRATIO</th>\n",
       "      <th>LSTAT</th>\n",
       "    </tr>\n",
       "  </thead>\n",
       "  <tbody>\n",
       "    <tr>\n",
       "      <th>104</th>\n",
       "      <td>0.13960</td>\n",
       "      <td>8.56</td>\n",
       "      <td>0.5200</td>\n",
       "      <td>6.167</td>\n",
       "      <td>90.0</td>\n",
       "      <td>384.0</td>\n",
       "      <td>20.9</td>\n",
       "      <td>12.33</td>\n",
       "    </tr>\n",
       "    <tr>\n",
       "      <th>203</th>\n",
       "      <td>0.03510</td>\n",
       "      <td>2.68</td>\n",
       "      <td>0.4161</td>\n",
       "      <td>7.853</td>\n",
       "      <td>33.2</td>\n",
       "      <td>224.0</td>\n",
       "      <td>14.7</td>\n",
       "      <td>3.81</td>\n",
       "    </tr>\n",
       "    <tr>\n",
       "      <th>381</th>\n",
       "      <td>15.87440</td>\n",
       "      <td>18.10</td>\n",
       "      <td>0.6710</td>\n",
       "      <td>6.545</td>\n",
       "      <td>99.1</td>\n",
       "      <td>666.0</td>\n",
       "      <td>20.2</td>\n",
       "      <td>21.08</td>\n",
       "    </tr>\n",
       "    <tr>\n",
       "      <th>489</th>\n",
       "      <td>0.18337</td>\n",
       "      <td>27.74</td>\n",
       "      <td>0.6090</td>\n",
       "      <td>5.414</td>\n",
       "      <td>98.3</td>\n",
       "      <td>711.0</td>\n",
       "      <td>20.1</td>\n",
       "      <td>23.97</td>\n",
       "    </tr>\n",
       "    <tr>\n",
       "      <th>69</th>\n",
       "      <td>0.12816</td>\n",
       "      <td>6.07</td>\n",
       "      <td>0.4090</td>\n",
       "      <td>5.885</td>\n",
       "      <td>33.0</td>\n",
       "      <td>345.0</td>\n",
       "      <td>18.9</td>\n",
       "      <td>8.79</td>\n",
       "    </tr>\n",
       "  </tbody>\n",
       "</table>\n",
       "</div>"
      ],
      "text/plain": [
       "         CRIM  INDUS     NOX     RM   AGE    TAX  PTRATIO  LSTAT\n",
       "104   0.13960   8.56  0.5200  6.167  90.0  384.0     20.9  12.33\n",
       "203   0.03510   2.68  0.4161  7.853  33.2  224.0     14.7   3.81\n",
       "381  15.87440  18.10  0.6710  6.545  99.1  666.0     20.2  21.08\n",
       "489   0.18337  27.74  0.6090  5.414  98.3  711.0     20.1  23.97\n",
       "69    0.12816   6.07  0.4090  5.885  33.0  345.0     18.9   8.79"
      ]
     },
     "execution_count": 74,
     "metadata": {},
     "output_type": "execute_result"
    }
   ],
   "source": [
    "X_train.head()"
   ]
  },
  {
   "cell_type": "code",
   "execution_count": 75,
   "id": "e52fc86e-21b9-4d66-ae68-3da0c8d3e360",
   "metadata": {},
   "outputs": [
    {
     "data": {
      "text/plain": [
       "array([31.48473982])"
      ]
     },
     "execution_count": 75,
     "metadata": {},
     "output_type": "execute_result"
    }
   ],
   "source": [
    "Model.predict([[0.5,20.50,0.5,7.5,32,250,15.77,10.25]])"
   ]
  },
  {
   "cell_type": "code",
   "execution_count": 76,
   "id": "6b9249d1-4c1e-4553-bcb5-f8864380e5be",
   "metadata": {},
   "outputs": [
    {
     "data": {
      "text/plain": [
       "20.924486266056945"
      ]
     },
     "execution_count": 76,
     "metadata": {},
     "output_type": "execute_result"
    }
   ],
   "source": [
    "Model.intercept_ "
   ]
  },
  {
   "cell_type": "code",
   "execution_count": 77,
   "id": "598094ac-1fb8-4c87-a769-bdb899805ab9",
   "metadata": {},
   "outputs": [
    {
     "data": {
      "text/plain": [
       "array([20.92448627])"
      ]
     },
     "execution_count": 77,
     "metadata": {},
     "output_type": "execute_result"
    }
   ],
   "source": [
    "Model.predict([[0,0,0,0,0,0,0,0]])"
   ]
  },
  {
   "cell_type": "code",
   "execution_count": 80,
   "id": "a26e6daf-8149-435b-a5bf-9339bed7e177",
   "metadata": {},
   "outputs": [],
   "source": [
    "import statsmodels.api as sm"
   ]
  },
  {
   "cell_type": "code",
   "execution_count": 81,
   "id": "e31c7400-8a15-4190-b733-174f785ea895",
   "metadata": {},
   "outputs": [],
   "source": [
    "from statsmodels.api import OLS"
   ]
  },
  {
   "cell_type": "code",
   "execution_count": 82,
   "id": "1f17b416-10a4-4ac4-b402-0a1d59ec6578",
   "metadata": {},
   "outputs": [],
   "source": [
    "sm_model = OLS(y_train, sm.add_constant(X_train))"
   ]
  },
  {
   "cell_type": "code",
   "execution_count": 83,
   "id": "87a19999-89c5-4bc8-9321-5dfcd1bb636c",
   "metadata": {},
   "outputs": [],
   "source": [
    "result = sm_model.fit()"
   ]
  },
  {
   "cell_type": "code",
   "execution_count": 84,
   "id": "d9a35d1a-5a58-4ae2-bac8-a5924dc87260",
   "metadata": {},
   "outputs": [
    {
     "data": {
      "text/html": [
       "<table class=\"simpletable\">\n",
       "<caption>OLS Regression Results</caption>\n",
       "<tr>\n",
       "  <th>Dep. Variable:</th>          <td>PRICE</td>      <th>  R-squared:         </th> <td>   0.673</td>\n",
       "</tr>\n",
       "<tr>\n",
       "  <th>Model:</th>                   <td>OLS</td>       <th>  Adj. R-squared:    </th> <td>   0.667</td>\n",
       "</tr>\n",
       "<tr>\n",
       "  <th>Method:</th>             <td>Least Squares</td>  <th>  F-statistic:       </th> <td>   108.5</td>\n",
       "</tr>\n",
       "<tr>\n",
       "  <th>Date:</th>             <td>Sat, 02 Apr 2022</td> <th>  Prob (F-statistic):</th> <td>2.61e-97</td>\n",
       "</tr>\n",
       "<tr>\n",
       "  <th>Time:</th>                 <td>10:01:47</td>     <th>  Log-Likelihood:    </th> <td> -1331.3</td>\n",
       "</tr>\n",
       "<tr>\n",
       "  <th>No. Observations:</th>      <td>   430</td>      <th>  AIC:               </th> <td>   2681.</td>\n",
       "</tr>\n",
       "<tr>\n",
       "  <th>Df Residuals:</th>          <td>   421</td>      <th>  BIC:               </th> <td>   2717.</td>\n",
       "</tr>\n",
       "<tr>\n",
       "  <th>Df Model:</th>              <td>     8</td>      <th>                     </th>     <td> </td>   \n",
       "</tr>\n",
       "<tr>\n",
       "  <th>Covariance Type:</th>      <td>nonrobust</td>    <th>                     </th>     <td> </td>   \n",
       "</tr>\n",
       "</table>\n",
       "<table class=\"simpletable\">\n",
       "<tr>\n",
       "     <td></td>        <th>coef</th>     <th>std err</th>      <th>t</th>      <th>P>|t|</th>  <th>[0.025</th>    <th>0.975]</th>  \n",
       "</tr>\n",
       "<tr>\n",
       "  <th>const</th>   <td>   20.9245</td> <td>    4.922</td> <td>    4.251</td> <td> 0.000</td> <td>   11.249</td> <td>   30.600</td>\n",
       "</tr>\n",
       "<tr>\n",
       "  <th>CRIM</th>    <td>   -0.0746</td> <td>    0.037</td> <td>   -1.997</td> <td> 0.046</td> <td>   -0.148</td> <td>   -0.001</td>\n",
       "</tr>\n",
       "<tr>\n",
       "  <th>INDUS</th>   <td>    0.0622</td> <td>    0.069</td> <td>    0.897</td> <td> 0.370</td> <td>   -0.074</td> <td>    0.198</td>\n",
       "</tr>\n",
       "<tr>\n",
       "  <th>NOX</th>     <td>   -8.0049</td> <td>    4.349</td> <td>   -1.840</td> <td> 0.066</td> <td>  -16.554</td> <td>    0.544</td>\n",
       "</tr>\n",
       "<tr>\n",
       "  <th>RM</th>      <td>    4.3595</td> <td>    0.482</td> <td>    9.038</td> <td> 0.000</td> <td>    3.411</td> <td>    5.308</td>\n",
       "</tr>\n",
       "<tr>\n",
       "  <th>AGE</th>     <td>    0.0390</td> <td>    0.015</td> <td>    2.626</td> <td> 0.009</td> <td>    0.010</td> <td>    0.068</td>\n",
       "</tr>\n",
       "<tr>\n",
       "  <th>TAX</th>     <td>    0.0007</td> <td>    0.003</td> <td>    0.247</td> <td> 0.805</td> <td>   -0.005</td> <td>    0.006</td>\n",
       "</tr>\n",
       "<tr>\n",
       "  <th>PTRATIO</th> <td>   -0.9253</td> <td>    0.146</td> <td>   -6.350</td> <td> 0.000</td> <td>   -1.212</td> <td>   -0.639</td>\n",
       "</tr>\n",
       "<tr>\n",
       "  <th>LSTAT</th>   <td>   -0.6046</td> <td>    0.059</td> <td>  -10.199</td> <td> 0.000</td> <td>   -0.721</td> <td>   -0.488</td>\n",
       "</tr>\n",
       "</table>\n",
       "<table class=\"simpletable\">\n",
       "<tr>\n",
       "  <th>Omnibus:</th>       <td>170.798</td> <th>  Durbin-Watson:     </th> <td>   2.097</td> \n",
       "</tr>\n",
       "<tr>\n",
       "  <th>Prob(Omnibus):</th> <td> 0.000</td>  <th>  Jarque-Bera (JB):  </th> <td> 745.032</td> \n",
       "</tr>\n",
       "<tr>\n",
       "  <th>Skew:</th>          <td> 1.721</td>  <th>  Prob(JB):          </th> <td>1.65e-162</td>\n",
       "</tr>\n",
       "<tr>\n",
       "  <th>Kurtosis:</th>      <td> 8.453</td>  <th>  Cond. No.          </th> <td>9.69e+03</td> \n",
       "</tr>\n",
       "</table><br/><br/>Notes:<br/>[1] Standard Errors assume that the covariance matrix of the errors is correctly specified.<br/>[2] The condition number is large, 9.69e+03. This might indicate that there are<br/>strong multicollinearity or other numerical problems."
      ],
      "text/plain": [
       "<class 'statsmodels.iolib.summary.Summary'>\n",
       "\"\"\"\n",
       "                            OLS Regression Results                            \n",
       "==============================================================================\n",
       "Dep. Variable:                  PRICE   R-squared:                       0.673\n",
       "Model:                            OLS   Adj. R-squared:                  0.667\n",
       "Method:                 Least Squares   F-statistic:                     108.5\n",
       "Date:                Sat, 02 Apr 2022   Prob (F-statistic):           2.61e-97\n",
       "Time:                        10:01:47   Log-Likelihood:                -1331.3\n",
       "No. Observations:                 430   AIC:                             2681.\n",
       "Df Residuals:                     421   BIC:                             2717.\n",
       "Df Model:                           8                                         \n",
       "Covariance Type:            nonrobust                                         \n",
       "==============================================================================\n",
       "                 coef    std err          t      P>|t|      [0.025      0.975]\n",
       "------------------------------------------------------------------------------\n",
       "const         20.9245      4.922      4.251      0.000      11.249      30.600\n",
       "CRIM          -0.0746      0.037     -1.997      0.046      -0.148      -0.001\n",
       "INDUS          0.0622      0.069      0.897      0.370      -0.074       0.198\n",
       "NOX           -8.0049      4.349     -1.840      0.066     -16.554       0.544\n",
       "RM             4.3595      0.482      9.038      0.000       3.411       5.308\n",
       "AGE            0.0390      0.015      2.626      0.009       0.010       0.068\n",
       "TAX            0.0007      0.003      0.247      0.805      -0.005       0.006\n",
       "PTRATIO       -0.9253      0.146     -6.350      0.000      -1.212      -0.639\n",
       "LSTAT         -0.6046      0.059    -10.199      0.000      -0.721      -0.488\n",
       "==============================================================================\n",
       "Omnibus:                      170.798   Durbin-Watson:                   2.097\n",
       "Prob(Omnibus):                  0.000   Jarque-Bera (JB):              745.032\n",
       "Skew:                           1.721   Prob(JB):                    1.65e-162\n",
       "Kurtosis:                       8.453   Cond. No.                     9.69e+03\n",
       "==============================================================================\n",
       "\n",
       "Notes:\n",
       "[1] Standard Errors assume that the covariance matrix of the errors is correctly specified.\n",
       "[2] The condition number is large, 9.69e+03. This might indicate that there are\n",
       "strong multicollinearity or other numerical problems.\n",
       "\"\"\""
      ]
     },
     "execution_count": 84,
     "metadata": {},
     "output_type": "execute_result"
    }
   ],
   "source": [
    "result.summary()"
   ]
  },
  {
   "cell_type": "code",
   "execution_count": 86,
   "id": "e97af0f4-3301-4e9a-9a29-91637a6e3984",
   "metadata": {},
   "outputs": [],
   "source": [
    "pred_train = Model.predict(X_train)"
   ]
  },
  {
   "cell_type": "code",
   "execution_count": 87,
   "id": "a3fee5b9-1f32-47fa-b64d-a29d8a0b61f5",
   "metadata": {},
   "outputs": [
    {
     "data": {
      "image/png": "[encoded data removed]",
      "text/plain": [
       "<Figure size 432x288 with 1 Axes>"
      ]
     },
     "metadata": {
      "needs_background": "light"
     },
     "output_type": "display_data"
    }
   ],
   "source": [
    "plt.scatter(y_train,pred_train, s=20)\n",
    "plt.xlabel('data aktual')\n",
    "plt.ylabel('data prediksi')\n",
    "plt.show()"
   ]
  },
  {
   "cell_type": "code",
   "execution_count": 88,
   "id": "7b3b8e85-0435-40a3-b9db-cc0af4991cc5",
   "metadata": {},
   "outputs": [],
   "source": [
    "pred_test = Model.predict(X_test)"
   ]
  },
  {
   "cell_type": "code",
   "execution_count": 89,
   "id": "a27acc5d-6b8e-462f-8de0-233b8d47388c",
   "metadata": {},
   "outputs": [
    {
     "data": {
      "image/png": "[encoded data removed]",
      "text/plain": [
       "<Figure size 432x288 with 1 Axes>"
      ]
     },
     "metadata": {
      "needs_background": "light"
     },
     "output_type": "display_data"
    }
   ],
   "source": [
    "plt.scatter(y_test,pred_test, s=20)\n",
    "plt.xlabel('data aktual')\n",
    "plt.ylabel('data prediksi')\n",
    "plt.show()"
   ]
  },
  {
   "cell_type": "code",
   "execution_count": 90,
   "id": "6af006dc-2c54-4404-8163-78927cc3255d",
   "metadata": {},
   "outputs": [],
   "source": [
    "# evaluation matrix for regression"
   ]
  },
  {
   "cell_type": "code",
   "execution_count": 91,
   "id": "53c7955d-3444-4761-b3f4-068e9004eb32",
   "metadata": {},
   "outputs": [],
   "source": [
    "Error_train = y_train - pred_train"
   ]
  },
  {
   "cell_type": "code",
   "execution_count": 92,
   "id": "9b21a367-eb08-469d-b35d-33d06baf2cf2",
   "metadata": {},
   "outputs": [],
   "source": [
    "Error_test = y_test - pred_test"
   ]
  },
  {
   "cell_type": "code",
   "execution_count": 93,
   "id": "0a50964a-595c-42c3-8896-4ffb4e62fa8b",
   "metadata": {},
   "outputs": [],
   "source": [
    "from sklearn.metrics import mean_absolute_error, mean_squared_error, r2_score, median_absolute_error"
   ]
  },
  {
   "cell_type": "code",
   "execution_count": null,
   "id": "e013d466-d9e2-4113-8647-e904610071e7",
   "metadata": {},
   "outputs": [],
   "source": [
    "# evaluation for train data"
   ]
  },
  {
   "cell_type": "code",
   "execution_count": 94,
   "id": "03814c4b-fdb6-4e04-874e-0672714c4081",
   "metadata": {},
   "outputs": [
    {
     "data": {
      "text/plain": [
       "104    20.1\n",
       "203    48.5\n",
       "381    10.9\n",
       "489     7.0\n",
       "69     20.9\n",
       "Name: PRICE, dtype: float64"
      ]
     },
     "execution_count": 94,
     "metadata": {},
     "output_type": "execute_result"
    }
   ],
   "source": [
    "y_train.head() "
   ]
  },
  {
   "cell_type": "code",
   "execution_count": 95,
   "id": "2d0f6167-b93f-4cf9-9298-2317a0f41400",
   "metadata": {},
   "outputs": [],
   "source": [
    "pred_train = Model.predict(X_train) #predicting"
   ]
  },
  {
   "cell_type": "code",
   "execution_count": 96,
   "id": "26654dd4-0e82-4e0c-b9c2-e8bdb31598d1",
   "metadata": {},
   "outputs": [
    {
     "data": {
      "text/plain": [
       "0.673312668221781"
      ]
     },
     "execution_count": 96,
     "metadata": {},
     "output_type": "execute_result"
    }
   ],
   "source": [
    "r2_train = r2_score(y_train, pred_train)\n",
    "r2_train"
   ]
  },
  {
   "cell_type": "code",
   "execution_count": 97,
   "id": "18a41187-40d7-4fd0-ba5e-6818b20f03e0",
   "metadata": {},
   "outputs": [
    {
     "data": {
      "text/plain": [
       "3.766914642244403"
      ]
     },
     "execution_count": 97,
     "metadata": {},
     "output_type": "execute_result"
    }
   ],
   "source": [
    "MAE_train = mean_absolute_error(y_train,pred_train)\n",
    "MAE_train"
   ]
  },
  {
   "cell_type": "code",
   "execution_count": 98,
   "id": "ee7b563b-7d1a-4802-be23-615a831c78ee",
   "metadata": {},
   "outputs": [
    {
     "data": {
      "text/plain": [
       "28.62927531062651"
      ]
     },
     "execution_count": 98,
     "metadata": {},
     "output_type": "execute_result"
    }
   ],
   "source": [
    "MSE_train = mean_squared_error(y_train,pred_train)\n",
    "MSE_train"
   ]
  },
  {
   "cell_type": "code",
   "execution_count": 99,
   "id": "37d1f575-1909-4079-b1db-bad5ccfed8a3",
   "metadata": {},
   "outputs": [
    {
     "data": {
      "text/plain": [
       "5.350633169133024"
      ]
     },
     "execution_count": 99,
     "metadata": {},
     "output_type": "execute_result"
    }
   ],
   "source": [
    "RMSE_train = np.sqrt(MSE_train)\n",
    "RMSE_train"
   ]
  },
  {
   "cell_type": "code",
   "execution_count": null,
   "id": "aacf7bb8-b4ea-45eb-acef-124049e32666",
   "metadata": {},
   "outputs": [
    {
     "name": "stdout",
     "output_type": "stream",
     "text": [
      "hasil evaluasi data training\n",
      "==================================================\n",
      "nilai R squared:  0.673312668221781\n",
      "nilai MAE: 3.766914642244403\n",
      "nilai MSE: 28.62927531062651\n",
      "nilai RMSE: 5.350633169133024\n"
     ]
    }
   ],
   "source": [
    "print('evaluation data training')\n",
    "print('='*50)\n",
    "print('R squared: ', r2_train)\n",
    "print('MAE:', MAE_train)\n",
    "print('MSE:', MSE_train)\n",
    "print('RMSE:', RMSE_train)"
   ]
  },
  {
   "cell_type": "code",
   "execution_count": 101,
   "id": "7ca298fc-83ea-4999-ab31-78d0092a0a8e",
   "metadata": {},
   "outputs": [
    {
     "data": {
      "text/plain": [
       "22.68930232558141"
      ]
     },
     "execution_count": 101,
     "metadata": {},
     "output_type": "execute_result"
    }
   ],
   "source": [
    "np.mean(y_train)"
   ]
  },
  {
   "cell_type": "code",
   "execution_count": 102,
   "id": "47f9dc56-1afd-4b5d-a755-5dc1b41e8f2f",
   "metadata": {},
   "outputs": [
    {
     "data": {
      "text/plain": [
       "0.16602161618682018"
      ]
     },
     "execution_count": 102,
     "metadata": {},
     "output_type": "execute_result"
    }
   ],
   "source": [
    "MAE_train/np.mean(y_train)"
   ]
  },
  {
   "cell_type": "code",
   "execution_count": 103,
   "id": "86b0bdef-3c27-44ad-a557-c6932f59c4a6",
   "metadata": {},
   "outputs": [],
   "source": [
    "# evaluation matrix for data testing"
   ]
  },
  {
   "cell_type": "code",
   "execution_count": 104,
   "id": "6c09eb54-503d-488b-b53d-470c42190a44",
   "metadata": {},
   "outputs": [
    {
     "data": {
      "text/plain": [
       "173    23.6\n",
       "274    32.4\n",
       "491    13.6\n",
       "72     22.8\n",
       "452    16.1\n",
       "       ... \n",
       "481    23.7\n",
       "444    10.8\n",
       "355    20.6\n",
       "77     20.8\n",
       "398     5.0\n",
       "Name: PRICE, Length: 76, dtype: float64"
      ]
     },
     "execution_count": 104,
     "metadata": {},
     "output_type": "execute_result"
    }
   ],
   "source": [
    "y_test "
   ]
  },
  {
   "cell_type": "code",
   "execution_count": 105,
   "id": "b1e98423-2780-4e63-b177-56fe02d9e21c",
   "metadata": {},
   "outputs": [],
   "source": [
    "pred_test = Model.predict(X_test)"
   ]
  },
  {
   "cell_type": "code",
   "execution_count": 106,
   "id": "e4d3520c-bec5-4f66-9c93-3bd689ab5149",
   "metadata": {},
   "outputs": [
    {
     "data": {
      "text/plain": [
       "0.7714453755347112"
      ]
     },
     "execution_count": 106,
     "metadata": {},
     "output_type": "execute_result"
    }
   ],
   "source": [
    "r2_test = r2_score(y_test, pred_test)\n",
    "r2_test"
   ]
  },
  {
   "cell_type": "code",
   "execution_count": 107,
   "id": "bc4a3d4b-2c1f-4caf-b6b9-41ff012e3272",
   "metadata": {},
   "outputs": [
    {
     "data": {
      "text/plain": [
       "2.8160354794052758"
      ]
     },
     "execution_count": 107,
     "metadata": {},
     "output_type": "execute_result"
    }
   ],
   "source": [
    "MAE_test = mean_absolute_error(y_test,pred_test)\n",
    "MAE_test"
   ]
  },
  {
   "cell_type": "code",
   "execution_count": 108,
   "id": "95e1fde4-60e4-42f4-83d4-352f95605cf7",
   "metadata": {},
   "outputs": [
    {
     "data": {
      "text/plain": [
       "14.925487511125297"
      ]
     },
     "execution_count": 108,
     "metadata": {},
     "output_type": "execute_result"
    }
   ],
   "source": [
    "MSE_test = mean_squared_error(y_test,pred_test)\n",
    "MSE_test"
   ]
  },
  {
   "cell_type": "code",
   "execution_count": 109,
   "id": "39d8dd38-e1a0-45d3-9d4d-d03c3d260b17",
   "metadata": {},
   "outputs": [
    {
     "data": {
      "text/plain": [
       "3.8633518492528345"
      ]
     },
     "execution_count": 109,
     "metadata": {},
     "output_type": "execute_result"
    }
   ],
   "source": [
    "RMSE_test = np.sqrt(MSE_test)\n",
    "RMSE_test"
   ]
  },
  {
   "cell_type": "code",
   "execution_count": 110,
   "id": "6e9bd43a-9720-4632-9609-3a37cd22273d",
   "metadata": {},
   "outputs": [
    {
     "name": "stdout",
     "output_type": "stream",
     "text": [
      "hasil evaluasi data training\n",
      "==================================================\n",
      "nilai R squared:  0.7714453755347112\n",
      "nilai MAE: 2.8160354794052758\n",
      "nilai MSE: 14.925487511125297\n",
      "nilai RMSE: 3.8633518492528345\n"
     ]
    }
   ],
   "source": [
    "print('hasil evaluasi data training')\n",
    "print('='*50)\n",
    "print('nilai R squared: ', r2_test)\n",
    "print('nilai MAE:', MAE_test)\n",
    "print('nilai MSE:', MSE_test)\n",
    "print('nilai RMSE:', RMSE_test)"
   ]
  },
  {
   "cell_type": "code",
   "execution_count": 111,
   "id": "3f1bd513-931f-4ab2-a9e9-feba2deea76d",
   "metadata": {},
   "outputs": [],
   "source": [
    "data = {'Training':[r2_train,MAE_train,MSE_train,RMSE_train],\n",
    "        'Testing':[r2_test,MAE_test,MSE_test,RMSE_test]}"
   ]
  },
  {
   "cell_type": "code",
   "execution_count": 112,
   "id": "f0c44618-a297-4475-8904-12b2b979886d",
   "metadata": {},
   "outputs": [
    {
     "data": {
      "text/html": [
       "<div>\n",
       "<style scoped>\n",
       "    .dataframe tbody tr th:only-of-type {\n",
       "        vertical-align: middle;\n",
       "    }\n",
       "\n",
       "    .dataframe tbody tr th {\n",
       "        vertical-align: top;\n",
       "    }\n",
       "\n",
       "    .dataframe thead th {\n",
       "        text-align: right;\n",
       "    }\n",
       "</style>\n",
       "<table border=\"1\" class=\"dataframe\">\n",
       "  <thead>\n",
       "    <tr style=\"text-align: right;\">\n",
       "      <th></th>\n",
       "      <th>Training</th>\n",
       "      <th>Testing</th>\n",
       "    </tr>\n",
       "  </thead>\n",
       "  <tbody>\n",
       "    <tr>\n",
       "      <th>R Squared</th>\n",
       "      <td>0.673313</td>\n",
       "      <td>0.771445</td>\n",
       "    </tr>\n",
       "    <tr>\n",
       "      <th>MAE</th>\n",
       "      <td>3.766915</td>\n",
       "      <td>2.816035</td>\n",
       "    </tr>\n",
       "    <tr>\n",
       "      <th>MSE</th>\n",
       "      <td>28.629275</td>\n",
       "      <td>14.925488</td>\n",
       "    </tr>\n",
       "    <tr>\n",
       "      <th>RMSE</th>\n",
       "      <td>5.350633</td>\n",
       "      <td>3.863352</td>\n",
       "    </tr>\n",
       "  </tbody>\n",
       "</table>\n",
       "</div>"
      ],
      "text/plain": [
       "            Training    Testing\n",
       "R Squared   0.673313   0.771445\n",
       "MAE         3.766915   2.816035\n",
       "MSE        28.629275  14.925488\n",
       "RMSE        5.350633   3.863352"
      ]
     },
     "execution_count": 112,
     "metadata": {},
     "output_type": "execute_result"
    }
   ],
   "source": [
    "pd.DataFrame(data=data, index=['R Squared', 'MAE', 'MSE', 'RMSE'])"
   ]
  },
  {
   "cell_type": "markdown",
   "id": "fa983ea3-daa5-4621-ad36-31ab03a7744e",
   "metadata": {},
   "source": [
    "# improvement machine learning dengan feature engineering - polunomial features"
   ]
  },
  {
   "cell_type": "code",
   "execution_count": 113,
   "id": "09cda787-f420-4a62-9257-5b9a625e7427",
   "metadata": {},
   "outputs": [],
   "source": [
    "from sklearn.preprocessing import PolynomialFeatures"
   ]
  },
  {
   "cell_type": "code",
   "execution_count": 114,
   "id": "0b853eec-191f-4f30-abf3-6ec61174301e",
   "metadata": {},
   "outputs": [
    {
     "data": {
      "text/html": [
       "<div>\n",
       "<style scoped>\n",
       "    .dataframe tbody tr th:only-of-type {\n",
       "        vertical-align: middle;\n",
       "    }\n",
       "\n",
       "    .dataframe tbody tr th {\n",
       "        vertical-align: top;\n",
       "    }\n",
       "\n",
       "    .dataframe thead th {\n",
       "        text-align: right;\n",
       "    }\n",
       "</style>\n",
       "<table border=\"1\" class=\"dataframe\">\n",
       "  <thead>\n",
       "    <tr style=\"text-align: right;\">\n",
       "      <th></th>\n",
       "      <th>CRIM</th>\n",
       "      <th>INDUS</th>\n",
       "      <th>NOX</th>\n",
       "      <th>RM</th>\n",
       "      <th>AGE</th>\n",
       "      <th>TAX</th>\n",
       "      <th>PTRATIO</th>\n",
       "      <th>LSTAT</th>\n",
       "      <th>PRICE</th>\n",
       "    </tr>\n",
       "  </thead>\n",
       "  <tbody>\n",
       "    <tr>\n",
       "      <th>0</th>\n",
       "      <td>0.00632</td>\n",
       "      <td>2.31</td>\n",
       "      <td>0.538</td>\n",
       "      <td>6.575</td>\n",
       "      <td>65.2</td>\n",
       "      <td>296.0</td>\n",
       "      <td>15.3</td>\n",
       "      <td>4.98</td>\n",
       "      <td>24.0</td>\n",
       "    </tr>\n",
       "    <tr>\n",
       "      <th>1</th>\n",
       "      <td>0.02731</td>\n",
       "      <td>7.07</td>\n",
       "      <td>0.469</td>\n",
       "      <td>6.421</td>\n",
       "      <td>78.9</td>\n",
       "      <td>242.0</td>\n",
       "      <td>17.8</td>\n",
       "      <td>9.14</td>\n",
       "      <td>21.6</td>\n",
       "    </tr>\n",
       "    <tr>\n",
       "      <th>2</th>\n",
       "      <td>0.02729</td>\n",
       "      <td>7.07</td>\n",
       "      <td>0.469</td>\n",
       "      <td>7.185</td>\n",
       "      <td>61.1</td>\n",
       "      <td>242.0</td>\n",
       "      <td>17.8</td>\n",
       "      <td>4.03</td>\n",
       "      <td>34.7</td>\n",
       "    </tr>\n",
       "    <tr>\n",
       "      <th>3</th>\n",
       "      <td>0.03237</td>\n",
       "      <td>2.18</td>\n",
       "      <td>0.458</td>\n",
       "      <td>6.998</td>\n",
       "      <td>45.8</td>\n",
       "      <td>222.0</td>\n",
       "      <td>18.7</td>\n",
       "      <td>2.94</td>\n",
       "      <td>33.4</td>\n",
       "    </tr>\n",
       "    <tr>\n",
       "      <th>4</th>\n",
       "      <td>0.06905</td>\n",
       "      <td>2.18</td>\n",
       "      <td>0.458</td>\n",
       "      <td>7.147</td>\n",
       "      <td>54.2</td>\n",
       "      <td>222.0</td>\n",
       "      <td>18.7</td>\n",
       "      <td>5.33</td>\n",
       "      <td>36.2</td>\n",
       "    </tr>\n",
       "    <tr>\n",
       "      <th>...</th>\n",
       "      <td>...</td>\n",
       "      <td>...</td>\n",
       "      <td>...</td>\n",
       "      <td>...</td>\n",
       "      <td>...</td>\n",
       "      <td>...</td>\n",
       "      <td>...</td>\n",
       "      <td>...</td>\n",
       "      <td>...</td>\n",
       "    </tr>\n",
       "    <tr>\n",
       "      <th>501</th>\n",
       "      <td>0.06263</td>\n",
       "      <td>11.93</td>\n",
       "      <td>0.573</td>\n",
       "      <td>6.593</td>\n",
       "      <td>69.1</td>\n",
       "      <td>273.0</td>\n",
       "      <td>21.0</td>\n",
       "      <td>9.67</td>\n",
       "      <td>22.4</td>\n",
       "    </tr>\n",
       "    <tr>\n",
       "      <th>502</th>\n",
       "      <td>0.04527</td>\n",
       "      <td>11.93</td>\n",
       "      <td>0.573</td>\n",
       "      <td>6.120</td>\n",
       "      <td>76.7</td>\n",
       "      <td>273.0</td>\n",
       "      <td>21.0</td>\n",
       "      <td>9.08</td>\n",
       "      <td>20.6</td>\n",
       "    </tr>\n",
       "    <tr>\n",
       "      <th>503</th>\n",
       "      <td>0.06076</td>\n",
       "      <td>11.93</td>\n",
       "      <td>0.573</td>\n",
       "      <td>6.976</td>\n",
       "      <td>91.0</td>\n",
       "      <td>273.0</td>\n",
       "      <td>21.0</td>\n",
       "      <td>5.64</td>\n",
       "      <td>23.9</td>\n",
       "    </tr>\n",
       "    <tr>\n",
       "      <th>504</th>\n",
       "      <td>0.10959</td>\n",
       "      <td>11.93</td>\n",
       "      <td>0.573</td>\n",
       "      <td>6.794</td>\n",
       "      <td>89.3</td>\n",
       "      <td>273.0</td>\n",
       "      <td>21.0</td>\n",
       "      <td>6.48</td>\n",
       "      <td>22.0</td>\n",
       "    </tr>\n",
       "    <tr>\n",
       "      <th>505</th>\n",
       "      <td>0.04741</td>\n",
       "      <td>11.93</td>\n",
       "      <td>0.573</td>\n",
       "      <td>6.030</td>\n",
       "      <td>80.8</td>\n",
       "      <td>273.0</td>\n",
       "      <td>21.0</td>\n",
       "      <td>7.88</td>\n",
       "      <td>11.9</td>\n",
       "    </tr>\n",
       "  </tbody>\n",
       "</table>\n",
       "<p>506 rows × 9 columns</p>\n",
       "</div>"
      ],
      "text/plain": [
       "        CRIM  INDUS    NOX     RM   AGE    TAX  PTRATIO  LSTAT  PRICE\n",
       "0    0.00632   2.31  0.538  6.575  65.2  296.0     15.3   4.98   24.0\n",
       "1    0.02731   7.07  0.469  6.421  78.9  242.0     17.8   9.14   21.6\n",
       "2    0.02729   7.07  0.469  7.185  61.1  242.0     17.8   4.03   34.7\n",
       "3    0.03237   2.18  0.458  6.998  45.8  222.0     18.7   2.94   33.4\n",
       "4    0.06905   2.18  0.458  7.147  54.2  222.0     18.7   5.33   36.2\n",
       "..       ...    ...    ...    ...   ...    ...      ...    ...    ...\n",
       "501  0.06263  11.93  0.573  6.593  69.1  273.0     21.0   9.67   22.4\n",
       "502  0.04527  11.93  0.573  6.120  76.7  273.0     21.0   9.08   20.6\n",
       "503  0.06076  11.93  0.573  6.976  91.0  273.0     21.0   5.64   23.9\n",
       "504  0.10959  11.93  0.573  6.794  89.3  273.0     21.0   6.48   22.0\n",
       "505  0.04741  11.93  0.573  6.030  80.8  273.0     21.0   7.88   11.9\n",
       "\n",
       "[506 rows x 9 columns]"
      ]
     },
     "execution_count": 114,
     "metadata": {},
     "output_type": "execute_result"
    }
   ],
   "source": [
    "x = df.drop(columns='PRICE')\n",
    "y = df['PRICE']\n",
    "df"
   ]
  },
  {
   "cell_type": "code",
   "execution_count": 115,
   "id": "ca0d3a10-b5c4-475a-9e1d-84c396f50efc",
   "metadata": {},
   "outputs": [],
   "source": [
    "poli = PolynomialFeatures(degree=5, include_bias=False, interaction_only = True)"
   ]
  },
  {
   "cell_type": "code",
   "execution_count": 116,
   "id": "a77f00d8-dd30-4ad8-bac5-d9085c7855f7",
   "metadata": {},
   "outputs": [],
   "source": [
    "X_poli = poli.fit_transform(X) # menghasilkan array"
   ]
  },
  {
   "cell_type": "code",
   "execution_count": 117,
   "id": "8ccdb4a5-a7ad-4a0b-a564-7e2715bb9441",
   "metadata": {},
   "outputs": [
    {
     "data": {
      "text/plain": [
       "(506, 218)"
      ]
     },
     "execution_count": 117,
     "metadata": {},
     "output_type": "execute_result"
    }
   ],
   "source": [
    "X_poli.shape"
   ]
  },
  {
   "cell_type": "code",
   "execution_count": 118,
   "id": "33513601-780c-4ef6-a1a6-50272e12f557",
   "metadata": {},
   "outputs": [],
   "source": [
    "df_1 = pd.DataFrame(data=X_poli)"
   ]
  },
  {
   "cell_type": "code",
   "execution_count": 119,
   "id": "fb090552-c303-4c78-b9ea-f136ef160fe3",
   "metadata": {},
   "outputs": [
    {
     "data": {
      "text/html": [
       "<div>\n",
       "<style scoped>\n",
       "    .dataframe tbody tr th:only-of-type {\n",
       "        vertical-align: middle;\n",
       "    }\n",
       "\n",
       "    .dataframe tbody tr th {\n",
       "        vertical-align: top;\n",
       "    }\n",
       "\n",
       "    .dataframe thead th {\n",
       "        text-align: right;\n",
       "    }\n",
       "</style>\n",
       "<table border=\"1\" class=\"dataframe\">\n",
       "  <thead>\n",
       "    <tr style=\"text-align: right;\">\n",
       "      <th></th>\n",
       "      <th>0</th>\n",
       "      <th>1</th>\n",
       "      <th>2</th>\n",
       "      <th>3</th>\n",
       "      <th>4</th>\n",
       "      <th>5</th>\n",
       "      <th>6</th>\n",
       "      <th>7</th>\n",
       "      <th>8</th>\n",
       "      <th>9</th>\n",
       "      <th>...</th>\n",
       "      <th>208</th>\n",
       "      <th>209</th>\n",
       "      <th>210</th>\n",
       "      <th>211</th>\n",
       "      <th>212</th>\n",
       "      <th>213</th>\n",
       "      <th>214</th>\n",
       "      <th>215</th>\n",
       "      <th>216</th>\n",
       "      <th>217</th>\n",
       "    </tr>\n",
       "  </thead>\n",
       "  <tbody>\n",
       "    <tr>\n",
       "      <th>0</th>\n",
       "      <td>0.00632</td>\n",
       "      <td>2.31</td>\n",
       "      <td>0.538</td>\n",
       "      <td>6.575</td>\n",
       "      <td>65.2</td>\n",
       "      <td>296.0</td>\n",
       "      <td>15.3</td>\n",
       "      <td>4.98</td>\n",
       "      <td>0.014599</td>\n",
       "      <td>0.003400</td>\n",
       "      <td>...</td>\n",
       "      <td>1.459743e+06</td>\n",
       "      <td>75452.929537</td>\n",
       "      <td>3.425470e+05</td>\n",
       "      <td>3.396816e+06</td>\n",
       "      <td>1.044501e+06</td>\n",
       "      <td>339974.765098</td>\n",
       "      <td>17573.019953</td>\n",
       "      <td>79779.354386</td>\n",
       "      <td>7.911200e+05</td>\n",
       "      <td>9.668427e+06</td>\n",
       "    </tr>\n",
       "    <tr>\n",
       "      <th>1</th>\n",
       "      <td>0.02731</td>\n",
       "      <td>7.07</td>\n",
       "      <td>0.469</td>\n",
       "      <td>6.421</td>\n",
       "      <td>78.9</td>\n",
       "      <td>242.0</td>\n",
       "      <td>17.8</td>\n",
       "      <td>9.14</td>\n",
       "      <td>0.193082</td>\n",
       "      <td>0.012808</td>\n",
       "      <td>...</td>\n",
       "      <td>7.922471e+06</td>\n",
       "      <td>582727.193032</td>\n",
       "      <td>1.787325e+06</td>\n",
       "      <td>2.196231e+07</td>\n",
       "      <td>1.023500e+06</td>\n",
       "      <td>525550.044934</td>\n",
       "      <td>38656.160330</td>\n",
       "      <td>118565.155891</td>\n",
       "      <td>1.456906e+06</td>\n",
       "      <td>1.994625e+07</td>\n",
       "    </tr>\n",
       "    <tr>\n",
       "      <th>2</th>\n",
       "      <td>0.02729</td>\n",
       "      <td>7.07</td>\n",
       "      <td>0.469</td>\n",
       "      <td>7.185</td>\n",
       "      <td>61.1</td>\n",
       "      <td>242.0</td>\n",
       "      <td>17.8</td>\n",
       "      <td>4.03</td>\n",
       "      <td>0.192940</td>\n",
       "      <td>0.012799</td>\n",
       "      <td>...</td>\n",
       "      <td>3.026968e+06</td>\n",
       "      <td>222644.742878</td>\n",
       "      <td>8.818335e+05</td>\n",
       "      <td>7.498960e+06</td>\n",
       "      <td>8.869031e+05</td>\n",
       "      <td>200798.857549</td>\n",
       "      <td>14769.502745</td>\n",
       "      <td>58497.866847</td>\n",
       "      <td>4.974558e+05</td>\n",
       "      <td>7.620937e+06</td>\n",
       "    </tr>\n",
       "    <tr>\n",
       "      <th>3</th>\n",
       "      <td>0.03237</td>\n",
       "      <td>2.18</td>\n",
       "      <td>0.458</td>\n",
       "      <td>6.998</td>\n",
       "      <td>45.8</td>\n",
       "      <td>222.0</td>\n",
       "      <td>18.7</td>\n",
       "      <td>2.94</td>\n",
       "      <td>0.070567</td>\n",
       "      <td>0.014825</td>\n",
       "      <td>...</td>\n",
       "      <td>4.560329e+05</td>\n",
       "      <td>38413.585577</td>\n",
       "      <td>1.861969e+05</td>\n",
       "      <td>1.218608e+06</td>\n",
       "      <td>6.093958e+05</td>\n",
       "      <td>95808.755510</td>\n",
       "      <td>8070.377153</td>\n",
       "      <td>39118.422010</td>\n",
       "      <td>2.560194e+05</td>\n",
       "      <td>3.911842e+06</td>\n",
       "    </tr>\n",
       "    <tr>\n",
       "      <th>4</th>\n",
       "      <td>0.06905</td>\n",
       "      <td>2.18</td>\n",
       "      <td>0.458</td>\n",
       "      <td>7.147</td>\n",
       "      <td>54.2</td>\n",
       "      <td>222.0</td>\n",
       "      <td>18.7</td>\n",
       "      <td>5.33</td>\n",
       "      <td>0.150529</td>\n",
       "      <td>0.031625</td>\n",
       "      <td>...</td>\n",
       "      <td>9.992168e+05</td>\n",
       "      <td>84168.265553</td>\n",
       "      <td>3.447482e+05</td>\n",
       "      <td>2.614433e+06</td>\n",
       "      <td>7.365176e+05</td>\n",
       "      <td>209927.208174</td>\n",
       "      <td>17683.057625</td>\n",
       "      <td>72428.760016</td>\n",
       "      <td>5.492709e+05</td>\n",
       "      <td>8.571264e+06</td>\n",
       "    </tr>\n",
       "  </tbody>\n",
       "</table>\n",
       "<p>5 rows × 218 columns</p>\n",
       "</div>"
      ],
      "text/plain": [
       "       0     1      2      3     4      5     6     7         8         9    \\\n",
       "0  0.00632  2.31  0.538  6.575  65.2  296.0  15.3  4.98  0.014599  0.003400   \n",
       "1  0.02731  7.07  0.469  6.421  78.9  242.0  17.8  9.14  0.193082  0.012808   \n",
       "2  0.02729  7.07  0.469  7.185  61.1  242.0  17.8  4.03  0.192940  0.012799   \n",
       "3  0.03237  2.18  0.458  6.998  45.8  222.0  18.7  2.94  0.070567  0.014825   \n",
       "4  0.06905  2.18  0.458  7.147  54.2  222.0  18.7  5.33  0.150529  0.031625   \n",
       "\n",
       "   ...           208            209           210           211           212  \\\n",
       "0  ...  1.459743e+06   75452.929537  3.425470e+05  3.396816e+06  1.044501e+06   \n",
       "1  ...  7.922471e+06  582727.193032  1.787325e+06  2.196231e+07  1.023500e+06   \n",
       "2  ...  3.026968e+06  222644.742878  8.818335e+05  7.498960e+06  8.869031e+05   \n",
       "3  ...  4.560329e+05   38413.585577  1.861969e+05  1.218608e+06  6.093958e+05   \n",
       "4  ...  9.992168e+05   84168.265553  3.447482e+05  2.614433e+06  7.365176e+05   \n",
       "\n",
       "             213           214            215           216           217  \n",
       "0  339974.765098  17573.019953   79779.354386  7.911200e+05  9.668427e+06  \n",
       "1  525550.044934  38656.160330  118565.155891  1.456906e+06  1.994625e+07  \n",
       "2  200798.857549  14769.502745   58497.866847  4.974558e+05  7.620937e+06  \n",
       "3   95808.755510   8070.377153   39118.422010  2.560194e+05  3.911842e+06  \n",
       "4  209927.208174  17683.057625   72428.760016  5.492709e+05  8.571264e+06  \n",
       "\n",
       "[5 rows x 218 columns]"
      ]
     },
     "execution_count": 119,
     "metadata": {},
     "output_type": "execute_result"
    }
   ],
   "source": [
    "df_1.head()"
   ]
  },
  {
   "cell_type": "code",
   "execution_count": 120,
   "id": "8b655f4d-6f20-44cf-b518-c35fd4148f7d",
   "metadata": {},
   "outputs": [],
   "source": [
    "df_1['PRICE'] = df['PRICE']"
   ]
  },
  {
   "cell_type": "code",
   "execution_count": 121,
   "id": "e9c0ab47-4b55-41ba-8f1a-eebc05e4df50",
   "metadata": {},
   "outputs": [],
   "source": [
    "X_1 = df_1.drop(columns='PRICE')\n",
    "y_1 = df_1['PRICE']"
   ]
  },
  {
   "cell_type": "code",
   "execution_count": 122,
   "id": "85895d81-6f0d-4978-84fa-a1b36eb11b5e",
   "metadata": {},
   "outputs": [],
   "source": [
    "X_train_P, X_test_P, y_train_P, y_test_P = train_test_split(X_1, y_1, test_size = 0.2, random_state=42)"
   ]
  },
  {
   "cell_type": "code",
   "execution_count": 123,
   "id": "c98abdbe-61cb-4084-8e79-5b8074a2bfe2",
   "metadata": {},
   "outputs": [],
   "source": [
    "Model_Poli = LinearRegression()"
   ]
  },
  {
   "cell_type": "code",
   "execution_count": 124,
   "id": "9a811841-d64a-4924-b123-44db5efca144",
   "metadata": {},
   "outputs": [
    {
     "data": {
      "text/plain": [
       "LinearRegression()"
      ]
     },
     "execution_count": 124,
     "metadata": {},
     "output_type": "execute_result"
    }
   ],
   "source": [
    "Model_Poli.fit(X_train_P, y_train_P)"
   ]
  },
  {
   "cell_type": "code",
   "execution_count": 125,
   "id": "7473c4b9-cabf-4426-b240-4c459378faff",
   "metadata": {},
   "outputs": [],
   "source": [
    "pred_train_P = Model_Poli.predict(X_train_P)\n",
    "r2_train_P = r2_score(y_train_P, pred_train_P)\n",
    "MAE_train_P = mean_absolute_error(y_train_P, pred_train_P)\n",
    "MSE_train_P = mean_squared_error(y_train_P, pred_train_P)\n",
    "RMSE_train_P = np.sqrt(MSE_train_P)"
   ]
  },
  {
   "cell_type": "code",
   "execution_count": 126,
   "id": "24d72ff0-569f-4b9e-8e77-dc9d076bbe83",
   "metadata": {},
   "outputs": [],
   "source": [
    "pred_test_P = Model_Poli.predict(X_test_P)\n",
    "r2_test_P = r2_score(y_test_P, pred_test_P)\n",
    "MAE_test_P = mean_absolute_error(y_test_P, pred_test_P)\n",
    "MSE_test_P = mean_squared_error(y_test_P, pred_test_P)\n",
    "RMSE_test_P = np.sqrt(MSE_test_P)"
   ]
  },
  {
   "cell_type": "code",
   "execution_count": null,
   "id": "094bf9de-7eff-4ed4-b6b2-637ff8da6424",
   "metadata": {},
   "outputs": [],
   "source": [
    "# eva matrix comparison"
   ]
  },
  {
   "cell_type": "code",
   "execution_count": 127,
   "id": "1f10ec0c-be8c-4b5b-ba70-74c88a4821fb",
   "metadata": {},
   "outputs": [
    {
     "data": {
      "text/html": [
       "<div>\n",
       "<style scoped>\n",
       "    .dataframe tbody tr th:only-of-type {\n",
       "        vertical-align: middle;\n",
       "    }\n",
       "\n",
       "    .dataframe tbody tr th {\n",
       "        vertical-align: top;\n",
       "    }\n",
       "\n",
       "    .dataframe thead th {\n",
       "        text-align: right;\n",
       "    }\n",
       "</style>\n",
       "<table border=\"1\" class=\"dataframe\">\n",
       "  <thead>\n",
       "    <tr style=\"text-align: right;\">\n",
       "      <th></th>\n",
       "      <th>Training LinReg</th>\n",
       "      <th>Testing LinReg</th>\n",
       "      <th>Training PolyNom</th>\n",
       "      <th>Testing PolyNom</th>\n",
       "    </tr>\n",
       "  </thead>\n",
       "  <tbody>\n",
       "    <tr>\n",
       "      <th>R Squared</th>\n",
       "      <td>0.673313</td>\n",
       "      <td>0.771445</td>\n",
       "      <td>0.943285</td>\n",
       "      <td>0.263755</td>\n",
       "    </tr>\n",
       "    <tr>\n",
       "      <th>MAE</th>\n",
       "      <td>3.766915</td>\n",
       "      <td>2.816035</td>\n",
       "      <td>1.473133</td>\n",
       "      <td>4.925032</td>\n",
       "    </tr>\n",
       "    <tr>\n",
       "      <th>MSE</th>\n",
       "      <td>28.629275</td>\n",
       "      <td>14.925488</td>\n",
       "      <td>4.927053</td>\n",
       "      <td>53.991665</td>\n",
       "    </tr>\n",
       "    <tr>\n",
       "      <th>RMSE</th>\n",
       "      <td>5.350633</td>\n",
       "      <td>3.863352</td>\n",
       "      <td>2.219697</td>\n",
       "      <td>7.347902</td>\n",
       "    </tr>\n",
       "  </tbody>\n",
       "</table>\n",
       "</div>"
      ],
      "text/plain": [
       "           Training LinReg  Testing LinReg  Training PolyNom  Testing PolyNom\n",
       "R Squared         0.673313        0.771445          0.943285         0.263755\n",
       "MAE               3.766915        2.816035          1.473133         4.925032\n",
       "MSE              28.629275       14.925488          4.927053        53.991665\n",
       "RMSE              5.350633        3.863352          2.219697         7.347902"
      ]
     },
     "execution_count": 127,
     "metadata": {},
     "output_type": "execute_result"
    }
   ],
   "source": [
    "data = {'Training LinReg':[r2_train,MAE_train,MSE_train,RMSE_train],\n",
    "        'Testing LinReg':[r2_test,MAE_test,MSE_test,RMSE_test],\n",
    "       'Training PolyNom':[r2_train_P,MAE_train_P,MSE_train_P,RMSE_train_P],\n",
    "        'Testing PolyNom':[r2_test_P,MAE_test_P,MSE_test_P,RMSE_test_P]}\n",
    "pd.DataFrame(data=data, index=['R Squared', 'MAE', 'MSE', 'RMSE'])"
   ]
  },
  {
   "cell_type": "code",
   "execution_count": 128,
   "id": "99e2ce05-e237-4026-870b-27f0a603e33b",
   "metadata": {},
   "outputs": [
    {
     "data": {
      "text/html": [
       "<div>\n",
       "<style scoped>\n",
       "    .dataframe tbody tr th:only-of-type {\n",
       "        vertical-align: middle;\n",
       "    }\n",
       "\n",
       "    .dataframe tbody tr th {\n",
       "        vertical-align: top;\n",
       "    }\n",
       "\n",
       "    .dataframe thead th {\n",
       "        text-align: right;\n",
       "    }\n",
       "</style>\n",
       "<table border=\"1\" class=\"dataframe\">\n",
       "  <thead>\n",
       "    <tr style=\"text-align: right;\">\n",
       "      <th></th>\n",
       "      <th>CRIM</th>\n",
       "      <th>INDUS</th>\n",
       "      <th>NOX</th>\n",
       "      <th>RM</th>\n",
       "      <th>AGE</th>\n",
       "      <th>TAX</th>\n",
       "      <th>PTRATIO</th>\n",
       "      <th>LSTAT</th>\n",
       "    </tr>\n",
       "  </thead>\n",
       "  <tbody>\n",
       "    <tr>\n",
       "      <th>104</th>\n",
       "      <td>0.13960</td>\n",
       "      <td>8.56</td>\n",
       "      <td>0.5200</td>\n",
       "      <td>6.167</td>\n",
       "      <td>90.0</td>\n",
       "      <td>384.0</td>\n",
       "      <td>20.9</td>\n",
       "      <td>12.33</td>\n",
       "    </tr>\n",
       "    <tr>\n",
       "      <th>203</th>\n",
       "      <td>0.03510</td>\n",
       "      <td>2.68</td>\n",
       "      <td>0.4161</td>\n",
       "      <td>7.853</td>\n",
       "      <td>33.2</td>\n",
       "      <td>224.0</td>\n",
       "      <td>14.7</td>\n",
       "      <td>3.81</td>\n",
       "    </tr>\n",
       "    <tr>\n",
       "      <th>381</th>\n",
       "      <td>15.87440</td>\n",
       "      <td>18.10</td>\n",
       "      <td>0.6710</td>\n",
       "      <td>6.545</td>\n",
       "      <td>99.1</td>\n",
       "      <td>666.0</td>\n",
       "      <td>20.2</td>\n",
       "      <td>21.08</td>\n",
       "    </tr>\n",
       "    <tr>\n",
       "      <th>489</th>\n",
       "      <td>0.18337</td>\n",
       "      <td>27.74</td>\n",
       "      <td>0.6090</td>\n",
       "      <td>5.414</td>\n",
       "      <td>98.3</td>\n",
       "      <td>711.0</td>\n",
       "      <td>20.1</td>\n",
       "      <td>23.97</td>\n",
       "    </tr>\n",
       "    <tr>\n",
       "      <th>69</th>\n",
       "      <td>0.12816</td>\n",
       "      <td>6.07</td>\n",
       "      <td>0.4090</td>\n",
       "      <td>5.885</td>\n",
       "      <td>33.0</td>\n",
       "      <td>345.0</td>\n",
       "      <td>18.9</td>\n",
       "      <td>8.79</td>\n",
       "    </tr>\n",
       "  </tbody>\n",
       "</table>\n",
       "</div>"
      ],
      "text/plain": [
       "         CRIM  INDUS     NOX     RM   AGE    TAX  PTRATIO  LSTAT\n",
       "104   0.13960   8.56  0.5200  6.167  90.0  384.0     20.9  12.33\n",
       "203   0.03510   2.68  0.4161  7.853  33.2  224.0     14.7   3.81\n",
       "381  15.87440  18.10  0.6710  6.545  99.1  666.0     20.2  21.08\n",
       "489   0.18337  27.74  0.6090  5.414  98.3  711.0     20.1  23.97\n",
       "69    0.12816   6.07  0.4090  5.885  33.0  345.0     18.9   8.79"
      ]
     },
     "execution_count": 128,
     "metadata": {},
     "output_type": "execute_result"
    }
   ],
   "source": [
    "X_train.head()"
   ]
  },
  {
   "cell_type": "code",
   "execution_count": 129,
   "id": "4855502c-487d-45e5-b0de-13fe46a2529c",
   "metadata": {},
   "outputs": [],
   "source": [
    "from sklearn.preprocessing import StandardScaler, MinMaxScaler, RobustScaler"
   ]
  },
  {
   "cell_type": "code",
   "execution_count": 130,
   "id": "46824498-d123-43fa-a363-37dde967994d",
   "metadata": {},
   "outputs": [],
   "source": [
    "scaler = RobustScaler()"
   ]
  },
  {
   "cell_type": "code",
   "execution_count": 131,
   "id": "1e27256f-021b-4893-8275-f3e40a6b2dad",
   "metadata": {},
   "outputs": [],
   "source": [
    " X_train_scaled = scaler.fit_transform(X_train)"
   ]
  },
  {
   "cell_type": "code",
   "execution_count": 132,
   "id": "5e9ca607-2a36-4c3f-8b94-eefae1fa6f28",
   "metadata": {},
   "outputs": [],
   "source": [
    "X_test_scaled = scaler.transform(X_test)"
   ]
  },
  {
   "cell_type": "code",
   "execution_count": 133,
   "id": "8418a4d1-a597-4cb3-9ec9-893117e500a5",
   "metadata": {},
   "outputs": [],
   "source": [
    "Model_scaled = LinearRegression()"
   ]
  },
  {
   "cell_type": "code",
   "execution_count": 134,
   "id": "e3d3bb06-1c25-4ceb-b761-45ac27c9e938",
   "metadata": {},
   "outputs": [
    {
     "data": {
      "text/plain": [
       "LinearRegression()"
      ]
     },
     "execution_count": 134,
     "metadata": {},
     "output_type": "execute_result"
    }
   ],
   "source": [
    "Model_scaled.fit(X_train_scaled, y_train)"
   ]
  },
  {
   "cell_type": "code",
   "execution_count": null,
   "id": "ee0f96a0-f3f3-487a-adf6-ec81ebbda65a",
   "metadata": {},
   "outputs": [],
   "source": [
    "# evaluation matrix - model with scalling"
   ]
  },
  {
   "cell_type": "code",
   "execution_count": null,
   "id": "89906f5c-6d02-432a-b9ab-93e7c95a5ec3",
   "metadata": {},
   "outputs": [],
   "source": [
    "# data training "
   ]
  },
  {
   "cell_type": "code",
   "execution_count": 135,
   "id": "93bae289-bbf1-4f4a-a1a3-9c3be4fd9ab2",
   "metadata": {},
   "outputs": [],
   "source": [
    "pred_train_S = Model_scaled.predict(X_train_scaled)\n",
    "r2_train_S = r2_score(y_train, pred_train_S)\n",
    "MAE_train_S = mean_absolute_error(y_train, pred_train_S)\n",
    "MSE_train_S = mean_squared_error(y_train, pred_train_S)\n",
    "RMSE_train_S = np.sqrt(MSE_train_S)"
   ]
  },
  {
   "cell_type": "code",
   "execution_count": null,
   "id": "34807736-b185-4e73-9381-7ab0311d1d77",
   "metadata": {},
   "outputs": [],
   "source": [
    "# data testing"
   ]
  },
  {
   "cell_type": "code",
   "execution_count": 136,
   "id": "637811e6-9ed9-4adb-89f9-6d1a5f0c2e24",
   "metadata": {},
   "outputs": [],
   "source": [
    "pred_test_S = Model_scaled.predict(X_test_scaled)\n",
    "r2_test_S = r2_score(y_test, pred_test_S)\n",
    "MAE_test_S = mean_absolute_error(y_test, pred_test_S)\n",
    "MSE_test_S = mean_squared_error(y_test, pred_test_S)\n",
    "RMSE_test_S = np.sqrt(MSE_test_S)"
   ]
  },
  {
   "cell_type": "code",
   "execution_count": 137,
   "id": "33f33e95-46fc-479a-91a4-2d559ba957f5",
   "metadata": {},
   "outputs": [
    {
     "data": {
      "text/html": [
       "<div>\n",
       "<style scoped>\n",
       "    .dataframe tbody tr th:only-of-type {\n",
       "        vertical-align: middle;\n",
       "    }\n",
       "\n",
       "    .dataframe tbody tr th {\n",
       "        vertical-align: top;\n",
       "    }\n",
       "\n",
       "    .dataframe thead th {\n",
       "        text-align: right;\n",
       "    }\n",
       "</style>\n",
       "<table border=\"1\" class=\"dataframe\">\n",
       "  <thead>\n",
       "    <tr style=\"text-align: right;\">\n",
       "      <th></th>\n",
       "      <th>Training LinReg</th>\n",
       "      <th>Testing LinReg</th>\n",
       "      <th>Training PolyNom</th>\n",
       "      <th>Testing PolyNom</th>\n",
       "      <th>Training Scalled</th>\n",
       "      <th>Testing Scalled</th>\n",
       "    </tr>\n",
       "  </thead>\n",
       "  <tbody>\n",
       "    <tr>\n",
       "      <th>R Squared</th>\n",
       "      <td>0.673313</td>\n",
       "      <td>0.771445</td>\n",
       "      <td>0.943285</td>\n",
       "      <td>0.263755</td>\n",
       "      <td>0.673313</td>\n",
       "      <td>0.771445</td>\n",
       "    </tr>\n",
       "    <tr>\n",
       "      <th>MAE</th>\n",
       "      <td>3.766915</td>\n",
       "      <td>2.816035</td>\n",
       "      <td>1.473133</td>\n",
       "      <td>4.925032</td>\n",
       "      <td>3.766915</td>\n",
       "      <td>2.816035</td>\n",
       "    </tr>\n",
       "    <tr>\n",
       "      <th>MSE</th>\n",
       "      <td>28.629275</td>\n",
       "      <td>14.925488</td>\n",
       "      <td>4.927053</td>\n",
       "      <td>53.991665</td>\n",
       "      <td>28.629275</td>\n",
       "      <td>14.925488</td>\n",
       "    </tr>\n",
       "    <tr>\n",
       "      <th>RMSE</th>\n",
       "      <td>5.350633</td>\n",
       "      <td>3.863352</td>\n",
       "      <td>2.219697</td>\n",
       "      <td>7.347902</td>\n",
       "      <td>5.350633</td>\n",
       "      <td>3.863352</td>\n",
       "    </tr>\n",
       "  </tbody>\n",
       "</table>\n",
       "</div>"
      ],
      "text/plain": [
       "           Training LinReg  Testing LinReg  Training PolyNom  Testing PolyNom  \\\n",
       "R Squared         0.673313        0.771445          0.943285         0.263755   \n",
       "MAE               3.766915        2.816035          1.473133         4.925032   \n",
       "MSE              28.629275       14.925488          4.927053        53.991665   \n",
       "RMSE              5.350633        3.863352          2.219697         7.347902   \n",
       "\n",
       "           Training Scalled  Testing Scalled  \n",
       "R Squared          0.673313         0.771445  \n",
       "MAE                3.766915         2.816035  \n",
       "MSE               28.629275        14.925488  \n",
       "RMSE               5.350633         3.863352  "
      ]
     },
     "execution_count": 137,
     "metadata": {},
     "output_type": "execute_result"
    }
   ],
   "source": [
    "data = {'Training LinReg':[r2_train,MAE_train,MSE_train,RMSE_train],\n",
    "        'Testing LinReg':[r2_test,MAE_test,MSE_test,RMSE_test],\n",
    "       'Training PolyNom':[r2_train_P,MAE_train_P,MSE_train_P,RMSE_train_P],\n",
    "        'Testing PolyNom':[r2_test_P,MAE_test_P,MSE_test_P,RMSE_test_P],\n",
    "        'Training Scalled':[r2_train_S,MAE_train_S,MSE_train_S,RMSE_train_S],\n",
    "        'Testing Scalled':[r2_test_S,MAE_test_S,MSE_test_S,RMSE_test_S]}\n",
    "pd.DataFrame(data=data, index=['R Squared', 'MAE', 'MSE', 'RMSE'])"
   ]
  },
  {
   "cell_type": "code",
   "execution_count": 139,
   "id": "21909499-25e5-43f9-9b37-9e5d8cfd043c",
   "metadata": {},
   "outputs": [
    {
     "data": {
      "text/html": [
       "<div>\n",
       "<style scoped>\n",
       "    .dataframe tbody tr th:only-of-type {\n",
       "        vertical-align: middle;\n",
       "    }\n",
       "\n",
       "    .dataframe tbody tr th {\n",
       "        vertical-align: top;\n",
       "    }\n",
       "\n",
       "    .dataframe thead th {\n",
       "        text-align: right;\n",
       "    }\n",
       "</style>\n",
       "<table border=\"1\" class=\"dataframe\">\n",
       "  <thead>\n",
       "    <tr style=\"text-align: right;\">\n",
       "      <th></th>\n",
       "      <th>CRIM</th>\n",
       "      <th>INDUS</th>\n",
       "      <th>NOX</th>\n",
       "      <th>RM</th>\n",
       "      <th>AGE</th>\n",
       "      <th>TAX</th>\n",
       "      <th>PTRATIO</th>\n",
       "      <th>LSTAT</th>\n",
       "      <th>PRICE</th>\n",
       "    </tr>\n",
       "  </thead>\n",
       "  <tbody>\n",
       "    <tr>\n",
       "      <th>0</th>\n",
       "      <td>0.00632</td>\n",
       "      <td>2.31</td>\n",
       "      <td>0.538</td>\n",
       "      <td>6.575</td>\n",
       "      <td>65.2</td>\n",
       "      <td>296.0</td>\n",
       "      <td>15.3</td>\n",
       "      <td>4.98</td>\n",
       "      <td>24.0</td>\n",
       "    </tr>\n",
       "    <tr>\n",
       "      <th>1</th>\n",
       "      <td>0.02731</td>\n",
       "      <td>7.07</td>\n",
       "      <td>0.469</td>\n",
       "      <td>6.421</td>\n",
       "      <td>78.9</td>\n",
       "      <td>242.0</td>\n",
       "      <td>17.8</td>\n",
       "      <td>9.14</td>\n",
       "      <td>21.6</td>\n",
       "    </tr>\n",
       "    <tr>\n",
       "      <th>2</th>\n",
       "      <td>0.02729</td>\n",
       "      <td>7.07</td>\n",
       "      <td>0.469</td>\n",
       "      <td>7.185</td>\n",
       "      <td>61.1</td>\n",
       "      <td>242.0</td>\n",
       "      <td>17.8</td>\n",
       "      <td>4.03</td>\n",
       "      <td>34.7</td>\n",
       "    </tr>\n",
       "    <tr>\n",
       "      <th>3</th>\n",
       "      <td>0.03237</td>\n",
       "      <td>2.18</td>\n",
       "      <td>0.458</td>\n",
       "      <td>6.998</td>\n",
       "      <td>45.8</td>\n",
       "      <td>222.0</td>\n",
       "      <td>18.7</td>\n",
       "      <td>2.94</td>\n",
       "      <td>33.4</td>\n",
       "    </tr>\n",
       "    <tr>\n",
       "      <th>4</th>\n",
       "      <td>0.06905</td>\n",
       "      <td>2.18</td>\n",
       "      <td>0.458</td>\n",
       "      <td>7.147</td>\n",
       "      <td>54.2</td>\n",
       "      <td>222.0</td>\n",
       "      <td>18.7</td>\n",
       "      <td>5.33</td>\n",
       "      <td>36.2</td>\n",
       "    </tr>\n",
       "  </tbody>\n",
       "</table>\n",
       "</div>"
      ],
      "text/plain": [
       "      CRIM  INDUS    NOX     RM   AGE    TAX  PTRATIO  LSTAT  PRICE\n",
       "0  0.00632   2.31  0.538  6.575  65.2  296.0     15.3   4.98   24.0\n",
       "1  0.02731   7.07  0.469  6.421  78.9  242.0     17.8   9.14   21.6\n",
       "2  0.02729   7.07  0.469  7.185  61.1  242.0     17.8   4.03   34.7\n",
       "3  0.03237   2.18  0.458  6.998  45.8  222.0     18.7   2.94   33.4\n",
       "4  0.06905   2.18  0.458  7.147  54.2  222.0     18.7   5.33   36.2"
      ]
     },
     "execution_count": 139,
     "metadata": {},
     "output_type": "execute_result"
    }
   ],
   "source": [
    "df.head()"
   ]
  },
  {
   "cell_type": "code",
   "execution_count": 140,
   "id": "4a469944-aca9-4521-a067-b7a0579f9040",
   "metadata": {},
   "outputs": [],
   "source": [
    "X_1 = df.drop(columns='PRICE')\n",
    "y_1 = df['PRICE']"
   ]
  },
  {
   "cell_type": "code",
   "execution_count": 141,
   "id": "aca2f702-fc79-4805-85e2-71e38ad99d4c",
   "metadata": {},
   "outputs": [],
   "source": [
    "X_train_1, X_test_1, y_train_1, y_test_1 = train_test_split(X_1, y_1, test_size=.20, random_state=42)"
   ]
  },
  {
   "cell_type": "code",
   "execution_count": 142,
   "id": "25fdbdd7-2114-4b3c-8132-cccb634e31bf",
   "metadata": {},
   "outputs": [],
   "source": [
    "from sklearn.linear_model import Ridge, Lasso, ElasticNet"
   ]
  },
  {
   "cell_type": "code",
   "execution_count": 143,
   "id": "1b8c7bcf-b9e7-4d89-a087-1b5b10011e3c",
   "metadata": {},
   "outputs": [],
   "source": [
    "Model_R = Ridge()"
   ]
  },
  {
   "cell_type": "code",
   "execution_count": 144,
   "id": "32c2b25b-363b-4c50-9922-50f5419cb0c1",
   "metadata": {},
   "outputs": [
    {
     "data": {
      "text/plain": [
       "Ridge()"
      ]
     },
     "execution_count": 144,
     "metadata": {},
     "output_type": "execute_result"
    }
   ],
   "source": [
    "Model_R.fit(X_train_1, y_train_1)"
   ]
  },
  {
   "cell_type": "code",
   "execution_count": 145,
   "id": "8f656043-10fd-45f5-8336-a5bdb9c06630",
   "metadata": {},
   "outputs": [],
   "source": [
    "pred_train_R = Model_R.predict(X_train_1)\n",
    "r2_train_R = r2_score(y_train_1, pred_train_R)\n",
    "MAE_train_R = mean_absolute_error(y_train_1, pred_train_R)\n",
    "MSE_train_R = mean_squared_error(y_train_1, pred_train_R)\n",
    "RMSE_train_R = np.sqrt(MSE_train_R)"
   ]
  },
  {
   "cell_type": "code",
   "execution_count": 146,
   "id": "67f1a6df-a751-43e2-8675-fb01a1bbc4cd",
   "metadata": {},
   "outputs": [],
   "source": [
    "pred_test_R = Model_R.predict(X_test_1)\n",
    "r2_test_R = r2_score(y_test_1, pred_test_R)\n",
    "MAE_test_R = mean_absolute_error(y_test_1, pred_test_R)\n",
    "MSE_test_R = mean_squared_error(y_test_1, pred_test_R)\n",
    "RMSE_test_R = np.sqrt(MSE_test_R)"
   ]
  },
  {
   "cell_type": "code",
   "execution_count": 147,
   "id": "d36ae32c-9b37-49b9-b3db-5c828e2c1769",
   "metadata": {},
   "outputs": [
    {
     "data": {
      "text/html": [
       "<div>\n",
       "<style scoped>\n",
       "    .dataframe tbody tr th:only-of-type {\n",
       "        vertical-align: middle;\n",
       "    }\n",
       "\n",
       "    .dataframe tbody tr th {\n",
       "        vertical-align: top;\n",
       "    }\n",
       "\n",
       "    .dataframe thead th {\n",
       "        text-align: right;\n",
       "    }\n",
       "</style>\n",
       "<table border=\"1\" class=\"dataframe\">\n",
       "  <thead>\n",
       "    <tr style=\"text-align: right;\">\n",
       "      <th></th>\n",
       "      <th>R Squared</th>\n",
       "      <th>MAE</th>\n",
       "      <th>MSE</th>\n",
       "      <th>RMSE</th>\n",
       "    </tr>\n",
       "  </thead>\n",
       "  <tbody>\n",
       "    <tr>\n",
       "      <th>Training LinReg</th>\n",
       "      <td>0.673313</td>\n",
       "      <td>3.766915</td>\n",
       "      <td>28.629275</td>\n",
       "      <td>5.350633</td>\n",
       "    </tr>\n",
       "    <tr>\n",
       "      <th>Testing LinReg</th>\n",
       "      <td>0.771445</td>\n",
       "      <td>2.816035</td>\n",
       "      <td>14.925488</td>\n",
       "      <td>3.863352</td>\n",
       "    </tr>\n",
       "    <tr>\n",
       "      <th>Training PolyNom</th>\n",
       "      <td>0.943285</td>\n",
       "      <td>1.473133</td>\n",
       "      <td>4.927053</td>\n",
       "      <td>2.219697</td>\n",
       "    </tr>\n",
       "    <tr>\n",
       "      <th>Testing PolyNom</th>\n",
       "      <td>0.263755</td>\n",
       "      <td>4.925032</td>\n",
       "      <td>53.991665</td>\n",
       "      <td>7.347902</td>\n",
       "    </tr>\n",
       "    <tr>\n",
       "      <th>Training Scalled</th>\n",
       "      <td>0.673313</td>\n",
       "      <td>3.766915</td>\n",
       "      <td>28.629275</td>\n",
       "      <td>5.350633</td>\n",
       "    </tr>\n",
       "    <tr>\n",
       "      <th>Testing Scalled</th>\n",
       "      <td>0.771445</td>\n",
       "      <td>2.816035</td>\n",
       "      <td>14.925488</td>\n",
       "      <td>3.863352</td>\n",
       "    </tr>\n",
       "    <tr>\n",
       "      <th>Training Ridge</th>\n",
       "      <td>0.697088</td>\n",
       "      <td>3.606466</td>\n",
       "      <td>26.315017</td>\n",
       "      <td>5.129816</td>\n",
       "    </tr>\n",
       "    <tr>\n",
       "      <th>Testing Ridge</th>\n",
       "      <td>0.617442</td>\n",
       "      <td>3.386170</td>\n",
       "      <td>28.054400</td>\n",
       "      <td>5.296640</td>\n",
       "    </tr>\n",
       "  </tbody>\n",
       "</table>\n",
       "</div>"
      ],
      "text/plain": [
       "                  R Squared       MAE        MSE      RMSE\n",
       "Training LinReg    0.673313  3.766915  28.629275  5.350633\n",
       "Testing LinReg     0.771445  2.816035  14.925488  3.863352\n",
       "Training PolyNom   0.943285  1.473133   4.927053  2.219697\n",
       "Testing PolyNom    0.263755  4.925032  53.991665  7.347902\n",
       "Training Scalled   0.673313  3.766915  28.629275  5.350633\n",
       "Testing Scalled    0.771445  2.816035  14.925488  3.863352\n",
       "Training Ridge     0.697088  3.606466  26.315017  5.129816\n",
       "Testing Ridge      0.617442  3.386170  28.054400  5.296640"
      ]
     },
     "execution_count": 147,
     "metadata": {},
     "output_type": "execute_result"
    }
   ],
   "source": [
    "data = {'Training LinReg':[r2_train,MAE_train,MSE_train,RMSE_train],\n",
    "        'Testing LinReg':[r2_test,MAE_test,MSE_test,RMSE_test],\n",
    "       'Training PolyNom':[r2_train_P,MAE_train_P,MSE_train_P,RMSE_train_P],\n",
    "        'Testing PolyNom':[r2_test_P,MAE_test_P,MSE_test_P,RMSE_test_P],\n",
    "        'Training Scalled':[r2_train_S,MAE_train_S,MSE_train_S,RMSE_train_S],\n",
    "        'Testing Scalled':[r2_test_S,MAE_test_S,MSE_test_S,RMSE_test_S],\n",
    "        'Training Ridge':[r2_train_R,MAE_train_R,MSE_train_R,RMSE_train_R],\n",
    "        'Testing Ridge':[r2_test_R,MAE_test_R,MSE_test_R,RMSE_test_R]}\n",
    "pd.DataFrame(data=data, index=['R Squared', 'MAE', 'MSE', 'RMSE']).T"
   ]
  },
  {
   "cell_type": "code",
   "execution_count": 149,
   "id": "4c4c59fa-a2e2-4563-ab44-053fc3c59d36",
   "metadata": {},
   "outputs": [],
   "source": [
    "\n",
    "param_a = [0.001, 0.01, 1, 10, 20, 30, 40, 50, 100]\n",
    "# Alpha = np.linspace()\n",
    "# Alpha = np.arange (1,15,0.01)"
   ]
  },
  {
   "cell_type": "code",
   "execution_count": null,
   "id": "205edc01-d82f-45c7-a26f-eca2adbfb9ca",
   "metadata": {},
   "outputs": [],
   "source": [
    "# ridge manual hyper parameter tuning"
   ]
  },
  {
   "cell_type": "code",
   "execution_count": 150,
   "id": "908c5e9c-439f-45e6-9207-7d4eb032f65f",
   "metadata": {},
   "outputs": [],
   "source": [
    "# eva matrix  - R2\n",
    "train_r = []\n",
    "test_r = []\n",
    "\n",
    "for i in param_a:\n",
    "    Model_R = Ridge(alpha=i)\n",
    "    Model_R.fit(X_train_1, y_train_1)\n",
    "    y_pred_tr = Model_R.predict(X_train_1)\n",
    "    R2_train = r2_score(y_train_1, y_pred_tr)\n",
    "    train_r.append(R2_train)\n",
    "    y_pred_test = Model_R.predict(X_test_1)\n",
    "    R2_test = r2_score(y_test_1, y_pred_test)\n",
    "    test_r.append(R2_test)"
   ]
  },
  {
   "cell_type": "code",
   "execution_count": 151,
   "id": "5a2a5bc8-1301-40f2-b85b-c89245c156cd",
   "metadata": {},
   "outputs": [
    {
     "data": {
      "image/png": "[encoded data removed]",
      "text/plain": [
       "<Figure size 576x504 with 1 Axes>"
      ]
     },
     "metadata": {
      "needs_background": "light"
     },
     "output_type": "display_data"
    }
   ],
   "source": [
    "plt.figure(figsize=(8,7))\n",
    "plt.plot(param_a, train_r, 'r*-')\n",
    "plt.plot(param_a, test_r, 'b*-')\n",
    "plt.legend(['Train R2', 'Test R2'])\n",
    "plt.show()"
   ]
  },
  {
   "cell_type": "code",
   "execution_count": 152,
   "id": "b002f941-cc18-42ed-aff3-d10c57dd2184",
   "metadata": {},
   "outputs": [
    {
     "data": {
      "text/plain": [
       "0.6338434526661912"
      ]
     },
     "execution_count": 152,
     "metadata": {},
     "output_type": "execute_result"
    }
   ],
   "source": [
    "np.max(test_r)"
   ]
  },
  {
   "cell_type": "code",
   "execution_count": 153,
   "id": "3a324e32-beef-466c-b540-6e7a6f226f45",
   "metadata": {},
   "outputs": [
    {
     "data": {
      "text/plain": [
       "8"
      ]
     },
     "execution_count": 153,
     "metadata": {},
     "output_type": "execute_result"
    }
   ],
   "source": [
    "np.argmax(test_r)"
   ]
  },
  {
   "cell_type": "code",
   "execution_count": 154,
   "id": "7e3f6410-897d-4e37-bd4c-e9ef21b062f3",
   "metadata": {},
   "outputs": [
    {
     "data": {
      "text/plain": [
       "100"
      ]
     },
     "execution_count": 154,
     "metadata": {},
     "output_type": "execute_result"
    }
   ],
   "source": [
    "param_a[8]"
   ]
  },
  {
   "cell_type": "code",
   "execution_count": 155,
   "id": "a2970901-848d-4959-adcc-3424e6c973d8",
   "metadata": {},
   "outputs": [
    {
     "data": {
      "text/plain": [
       "100"
      ]
     },
     "execution_count": 155,
     "metadata": {},
     "output_type": "execute_result"
    }
   ],
   "source": [
    "param_a[np.argmax(test_r)]"
   ]
  },
  {
   "cell_type": "code",
   "execution_count": 156,
   "id": "a7eb6385-767b-4f9c-8d09-12a41ac5ea2d",
   "metadata": {},
   "outputs": [],
   "source": [
    "Model_Best_R = Ridge(alpha=100)"
   ]
  },
  {
   "cell_type": "code",
   "execution_count": 157,
   "id": "87896956-ed0a-4cb8-b34b-55a62d7b8bbb",
   "metadata": {},
   "outputs": [],
   "source": [
    "def Manual_Tune(Alpha, X_train, X_test, y_train, y_test, Model):   \n",
    "    train_r = []\n",
    "    test_r = []\n",
    "    for i in Alpha:\n",
    "        Model_R = Model(alpha=i)\n",
    "        Model_R.fit(X_train, y_train)\n",
    "        y_pred_tr = Model_R.predict(X_train)\n",
    "        R2_train = r2_score(y_train_1, y_pred_tr)\n",
    "        train_r.append(R2_train)\n",
    "        y_pred_test = Model_R.predict(X_test_1)\n",
    "        R2_test = r2_score(y_test_1, y_pred_test)\n",
    "        test_r.append(R2_test)\n",
    "    return train_r, test_r"
   ]
  },
  {
   "cell_type": "code",
   "execution_count": 158,
   "id": "76224d7d-f29e-4d64-9174-1f37c27eb88c",
   "metadata": {},
   "outputs": [],
   "source": [
    "train_Enet, test_Enet = Manual_Tune(param_a, X_train_1, X_test_1, y_train_1, y_test_1, ElasticNet)"
   ]
  },
  {
   "cell_type": "code",
   "execution_count": 159,
   "id": "a1266d80-d15b-4a20-8428-cf8605705f09",
   "metadata": {},
   "outputs": [
    {
     "data": {
      "image/png": "[encoded data removed]",
      "text/plain": [
       "<Figure size 576x504 with 1 Axes>"
      ]
     },
     "metadata": {
      "needs_background": "light"
     },
     "output_type": "display_data"
    }
   ],
   "source": [
    "plt.figure(figsize=(8,7))\n",
    "plt.plot(param_a, train_Enet, 'r*-')\n",
    "plt.plot(param_a, test_Enet, 'b*-')\n",
    "plt.legend(['Train R2', 'Test R2'])\n",
    "plt.show()"
   ]
  },
  {
   "cell_type": "code",
   "execution_count": null,
   "id": "1f7fafa4-6923-4d6f-a023-1bab6f97f1be",
   "metadata": {},
   "outputs": [],
   "source": [
    "param_a[np.argmax(test_Enet)]"
   ]
  },
  {
   "cell_type": "code",
   "execution_count": null,
   "id": "bf6913fb-7770-447a-8020-f0e72f0850fb",
   "metadata": {},
   "outputs": [],
   "source": [
    "train_Lasso, test_Lasso = Manual_Tune(param_a, X_train_1, X_test_1, y_train_1, y_test_1, ElasticNet)"
   ]
  }
 ],
 "metadata": {
  "kernelspec": {
   "display_name": "Python 3 (ipykernel)",
   "language": "python",
   "name": "python3"
  },
  "language_info": {
   "codemirror_mode": {
    "name": "ipython",
    "version": 3
   },
   "file_extension": ".py",
   "mimetype": "text/x-python",
   "name": "python",
   "nbconvert_exporter": "python",
   "pygments_lexer": "ipython3",
   "version": "3.9.7"
  }
 },
 "nbformat": 4,
 "nbformat_minor": 5
}
